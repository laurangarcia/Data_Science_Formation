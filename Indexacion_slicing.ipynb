{
  "cells": [
    {
      "cell_type": "markdown",
      "metadata": {
        "id": "S21U9hdlz9_Q"
      },
      "source": [
        "## Indexacion y Slicing\n",
        "La indexación es la práctica de vincular el valor de algo a un índice de referencia."
      ]
    },
    {
      "cell_type": "code",
      "execution_count": 3,
      "metadata": {
        "colab": {
          "base_uri": "https://localhost:8080/"
        },
        "id": "WNsjAH92z1Xi",
        "outputId": "03b65c2b-1f8e-4a3c-b255-4e9449ba087d"
      },
      "outputs": [
        {
          "name": "stdout",
          "output_type": "stream",
          "text": [
            "20\n",
            "50\n",
            "[20 30 40]\n"
          ]
        }
      ],
      "source": [
        "import numpy as np\n",
        "\n",
        "array = np.array([10, 20, 30, 40, 50])\n",
        "print(array[1])\n",
        "print(array[-1])\n",
        "print(array[1:4])"
      ]
    },
    {
      "cell_type": "code",
      "execution_count": 4,
      "metadata": {
        "colab": {
          "base_uri": "https://localhost:8080/"
        },
        "id": "v5ARDXGa0PdY",
        "outputId": "85c047d5-db09-4e90-b671-6a2fed3922d0"
      },
      "outputs": [
        {
          "name": "stdout",
          "output_type": "stream",
          "text": [
            "80\n",
            "[[ True  True False False False]\n",
            " [False False False False False]]\n",
            "[10 20]\n"
          ]
        }
      ],
      "source": [
        "array = np.array([[10, 20, 30, 40, 50], [60, 70, 80, 90, 100]])\n",
        "print(array[1, 2])\n",
        "bool_index = array < 25\n",
        "print(bool_index)\n",
        "print(array[bool_index])"
      ]
    },
    {
      "cell_type": "code",
      "execution_count": 6,
      "metadata": {
        "colab": {
          "base_uri": "https://localhost:8080/"
        },
        "id": "ir47p6jY1v18",
        "outputId": "0912cdb8-0ebd-455f-bd9f-541c1cc3862e"
      },
      "outputs": [
        {
          "name": "stdout",
          "output_type": "stream",
          "text": [
            "[[ 30  10  50]\n",
            " [ 80  60 100]]\n"
          ]
        }
      ],
      "source": [
        "index = [2,0,4]\n",
        "print(array[:, index])"
      ]
    },
    {
      "cell_type": "code",
      "execution_count": 11,
      "metadata": {
        "colab": {
          "base_uri": "https://localhost:8080/"
        },
        "id": "wBpWBIg_13Bv",
        "outputId": "95c9e9cd-7071-4735-a61e-628299ed8688"
      },
      "outputs": [
        {
          "name": "stdout",
          "output_type": "stream",
          "text": [
            "[[1 4 2]\n",
            " [4 1 9]\n",
            " [3 1 4]]\n",
            "4\n"
          ]
        }
      ],
      "source": [
        "array = np.random.randint(1, 10, size = (3, 3))\n",
        "print(array)\n",
        "print(array[0, 1])\n"
      ]
    },
    {
      "cell_type": "code",
      "execution_count": 12,
      "metadata": {
        "colab": {
          "base_uri": "https://localhost:8080/"
        },
        "id": "oIQ2T17E2kO5",
        "outputId": "aa388af8-4461-48b3-c41b-c0e7a7468df5"
      },
      "outputs": [
        {
          "name": "stdout",
          "output_type": "stream",
          "text": [
            "[[1 4]\n",
            " [4 1]]\n"
          ]
        }
      ],
      "source": [
        "print(array[:2,:2]) #: Por defecto lo entiende desde 0"
      ]
    },
    {
      "cell_type": "code",
      "execution_count": 18,
      "metadata": {
        "colab": {
          "base_uri": "https://localhost:8080/"
        },
        "id": "rAwuycFg29e_",
        "outputId": "b0e2427b-c91f-4106-d54b-865b52ec75d1"
      },
      "outputs": [
        {
          "name": "stdout",
          "output_type": "stream",
          "text": [
            "[[15 76 94]\n",
            " [10 11 17]\n",
            " [ 8 41 64]]\n",
            "[array([[ True, False, False],\n",
            "       [ True,  True,  True],\n",
            "       [ True,  True, False]])]\n"
          ]
        }
      ],
      "source": [
        "rand = np.random.randint(0, 100, size = (3,3))\n",
        "bool = rand < 50\n",
        "print(rand)\n",
        "print([bool])"
      ]
    },
    {
      "cell_type": "markdown",
      "metadata": {
        "id": "Teh6MBtj5Mcm"
      },
      "source": [
        "## Broadcasting y Concatenacion\n",
        "Permite realizar operaciones aritméticas en arrays de diferentes tamaños y formas de manera eficiente. En lugar de iterar sobre cada elemento de los arrays para realizar las operaciones, NumPy extiende automáticamente los arrays más pequeños para que coincidan con las dimensiones de los más grandes, sin duplicar datos. Esto no solo optimiza el uso de la memoria, sino que también acelera significativamente las operaciones.\n",
        "\n",
        "El broadcasting permite que las operaciones entre arrays de diferentes dimensiones se realicen como si todos los arrays tuvieran la misma forma. NumPy extiende los arrays más pequeños a la forma del más grande de manera implícita, facilitando las operaciones sin necesidad de copiar los datos."
      ]
    },
    {
      "cell_type": "code",
      "execution_count": 19,
      "metadata": {
        "colab": {
          "base_uri": "https://localhost:8080/"
        },
        "id": "qLdVlBdj5dSm",
        "outputId": "298b08e9-7e19-4f5f-9b80-c222eed960a3"
      },
      "outputs": [
        {
          "name": "stdout",
          "output_type": "stream",
          "text": [
            "[ 90. 180. 270.]\n"
          ]
        }
      ],
      "source": [
        "prices = np.array([100, 200, 300])\n",
        "discount = np.array([0.9])\n",
        "discount_prices = prices * discount\n",
        "print(discount_prices)"
      ]
    },
    {
      "cell_type": "code",
      "execution_count": 21,
      "metadata": {
        "colab": {
          "base_uri": "https://localhost:8080/"
        },
        "id": "EKpgpKRR5v8o",
        "outputId": "652b83e1-d629-4722-b6d4-720209fee83b"
      },
      "outputs": [
        {
          "name": "stdout",
          "output_type": "stream",
          "text": [
            "[[298 335 453]\n",
            " [453 390 236]\n",
            " [112 123 204]]\n",
            "[[308 355 483]\n",
            " [463 410 266]\n",
            " [122 143 234]]\n"
          ]
        }
      ],
      "source": [
        "prices = np.random.randint(100, 500, size = (3,3))\n",
        "discount = np.array([10,20,30])\n",
        "prices_sum = prices + discount\n",
        "print(prices)\n",
        "print(prices_sum)"
      ]
    },
    {
      "cell_type": "code",
      "execution_count": 25,
      "metadata": {
        "colab": {
          "base_uri": "https://localhost:8080/"
        },
        "id": "ajvBLdwY6I1h",
        "outputId": "2b841fda-d87a-414c-df6f-42a94ea19b2c"
      },
      "outputs": [
        {
          "name": "stdout",
          "output_type": "stream",
          "text": [
            "False\n",
            "True\n"
          ]
        }
      ],
      "source": [
        "array = np.array([1,2,3,4,5])\n",
        "print(np.all(array>10))\n",
        "print(np.any(array > 4))"
      ]
    },
    {
      "cell_type": "code",
      "execution_count": 27,
      "metadata": {
        "colab": {
          "base_uri": "https://localhost:8080/"
        },
        "id": "-M6IXpLo6ioQ",
        "outputId": "da71f2c9-3da3-4403-ebcd-9e3ee6771733"
      },
      "outputs": [
        {
          "name": "stdout",
          "output_type": "stream",
          "text": [
            "[1 2 3 4 5 6]\n",
            "[1 2 3 1 2 3]\n"
          ]
        }
      ],
      "source": [
        "arrA = np.array([1,2,3])\n",
        "arrB = np.array([4,5,6])\n",
        "concatenated = np.concatenate((arrA, arrB))\n",
        "concatenatedaa = np.concatenate((arrA, arrA))\n",
        "print(concatenated)\n",
        "print(concatenatedaa)"
      ]
    },
    {
      "cell_type": "markdown",
      "metadata": {
        "id": "7SAdU2QY8Lc7"
      },
      "source": [
        "La funcion Stack: se utiliza para combinar una secuencia de matrices (arrays) a lo largo de un nuevo eje. Esto significa que crea una nueva matriz con una dimensión adicional a partir de las matrices de entrada, a diferencia de concatenate, que une matrices a lo largo de un eje existente."
      ]
    },
    {
      "cell_type": "code",
      "execution_count": 28,
      "metadata": {
        "colab": {
          "base_uri": "https://localhost:8080/"
        },
        "id": "5Vnr0ual6sRe",
        "outputId": "a19929a4-0b91-4eef-a81e-e5492c56909c"
      },
      "outputs": [
        {
          "name": "stdout",
          "output_type": "stream",
          "text": [
            "[[1 2 3]\n",
            " [4 5 6]]\n"
          ]
        }
      ],
      "source": [
        "satecked = np.vstack((arrA, arrB))\n",
        "print(satecked)"
      ]
    },
    {
      "cell_type": "code",
      "execution_count": 31,
      "metadata": {
        "colab": {
          "base_uri": "https://localhost:8080/"
        },
        "id": "XCYAzyBd7lUk",
        "outputId": "2fdf3916-e6f8-43c9-a1f6-81bd7ae1c927"
      },
      "outputs": [
        {
          "name": "stdout",
          "output_type": "stream",
          "text": [
            "[1 2 3 4 5 6 7 8 9]\n",
            "[array([1, 2, 3]), array([4, 5, 6]), array([7, 8, 9])]\n"
          ]
        }
      ],
      "source": [
        "array_c = np.arange(1,10)\n",
        "split_array = np.split(array_c, 3)\n",
        "print(array_c)\n",
        "print(split_array)"
      ]
    },
    {
      "cell_type": "code",
      "execution_count": null,
      "metadata": {
        "id": "xlS3DWeS8boG"
      },
      "outputs": [],
      "source": []
    },
    {
      "cell_type": "markdown",
      "metadata": {
        "id": "eeqbdWPX8z3T"
      },
      "source": [
        "## Identificacion y conteo de respuestas unicas"
      ]
    },
    {
      "cell_type": "code",
      "execution_count": 37,
      "metadata": {
        "colab": {
          "base_uri": "https://localhost:8080/"
        },
        "id": "6GdumnAy85eu",
        "outputId": "99a3ca37-30a3-42c1-d919-d6f0515623df"
      },
      "outputs": [
        {
          "name": "stdout",
          "output_type": "stream",
          "text": [
            "['bueno' 'excelente' 'malo']\n"
          ]
        }
      ],
      "source": [
        "survey_respondes = np.array([\"bueno\", \"excelente\", \"malo\",\n",
        "                            \"bueno\", \"malo\", \"excelente\",\n",
        "                            \"bueno\", \"bueno\", \"malo\", \"excelente\"])\n",
        "print(np.unique(survey_respondes))\n"
      ]
    },
    {
      "cell_type": "code",
      "execution_count": 38,
      "metadata": {
        "colab": {
          "base_uri": "https://localhost:8080/"
        },
        "id": "MOqDlbSD9RR_",
        "outputId": "52f13415-8f47-43de-888d-390e7f37017a"
      },
      "outputs": [
        {
          "name": "stdout",
          "output_type": "stream",
          "text": [
            "['bueno' 'excelente' 'malo']\n",
            "[4 3 3]\n"
          ]
        }
      ],
      "source": [
        "unique_elements, counts = np.unique(survey_respondes, return_counts = True)\n",
        "print(unique_elements)\n",
        "print(counts)"
      ]
    },
    {
      "cell_type": "code",
      "execution_count": 40,
      "metadata": {
        "colab": {
          "base_uri": "https://localhost:8080/"
        },
        "id": "s2tRJjwX-Vju",
        "outputId": "03b884ad-1955-4e76-8e38-9b97bca21202"
      },
      "outputs": [
        {
          "name": "stdout",
          "output_type": "stream",
          "text": [
            "[0 1 2 3 4 5 6 7 8 9]\n",
            "[1 2]\n"
          ]
        }
      ],
      "source": [
        "#Vistas\n",
        "array_x = np.arange(10)\n",
        "view = array_x[1:3]\n",
        "print(array_x)\n",
        "print(view)"
      ]
    },
    {
      "cell_type": "code",
      "execution_count": 42,
      "metadata": {
        "colab": {
          "base_uri": "https://localhost:8080/"
        },
        "id": "-aij0wcd-qkV",
        "outputId": "a0c43db8-2a87-4566-e68e-a8d4b1a68af0"
      },
      "outputs": [
        {
          "name": "stdout",
          "output_type": "stream",
          "text": [
            "[0 1 2 3 4 5 6 7 8 9]\n",
            "[1 2]\n",
            "[ 0 10 11  3  4  5  6  7  8  9]\n",
            "[1 2]\n"
          ]
        }
      ],
      "source": [
        "#Copia\n",
        "array_x = np.arange(10)\n",
        "copy = array_x[1:3].copy()\n",
        "print(array_x)\n",
        "print(copy)\n",
        "array_x[1:3] = [10, 11]\n",
        "print(array_x)\n",
        "print(copy)"
      ]
    },
    {
      "cell_type": "markdown",
      "metadata": {
        "id": "7wS2ytCr_rDB"
      },
      "source": [
        "## Transponer, invertir y aplanar"
      ]
    },
    {
      "cell_type": "code",
      "execution_count": 46,
      "metadata": {
        "colab": {
          "base_uri": "https://localhost:8080/"
        },
        "id": "noIwi_n-_yAk",
        "outputId": "f075c71c-5b69-449d-c983-f6463dccd58d"
      },
      "outputs": [
        {
          "name": "stdout",
          "output_type": "stream",
          "text": [
            "[[1 2 2]\n",
            " [4 5 6]\n",
            " [7 8 9]]\n",
            "[[1 4 7]\n",
            " [2 5 8]\n",
            " [2 6 9]]\n"
          ]
        }
      ],
      "source": [
        "matrix = np.array([[1,2,2],[4,5,6],[7,8,9]])\n",
        "transposed = np.transpose(matrix)\n",
        "transpuesta = matrix.T\n",
        "print(matrix)\n",
        "print(transposed)"
      ]
    },
    {
      "cell_type": "code",
      "execution_count": 49,
      "metadata": {
        "colab": {
          "base_uri": "https://localhost:8080/"
        },
        "id": "hl4CtO9zADXM",
        "outputId": "173ce66d-0fd6-4a98-8aad-bb4958de3258"
      },
      "outputs": [
        {
          "name": "stdout",
          "output_type": "stream",
          "text": [
            "[ 1  2  3  4  5  6  7  8  9 10 11 12]\n",
            "[[ 1  2  3  4]\n",
            " [ 5  6  7  8]\n",
            " [ 9 10 11 12]]\n"
          ]
        }
      ],
      "source": [
        "array3 = np.arange(1,13)\n",
        "reshape_array = array3.reshape(3,4)\n",
        "print(array3)\n",
        "print(reshape_array)"
      ]
    },
    {
      "cell_type": "code",
      "execution_count": null,
      "metadata": {
        "id": "uY0YGCwMACz9"
      },
      "outputs": [],
      "source": [
        "reversed_array = array[::-1]\n",
        "print(array)\n",
        "print(reversed_array)"
      ]
    },
    {
      "cell_type": "markdown",
      "metadata": {
        "id": "ZqdBytbVBhwQ"
      },
      "source": [
        "Flattening:Procesa un array multidimensional a unidimensional\n",
        "\n",
        "![image.png](data:image/png;base64,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)"
      ]
    },
    {
      "cell_type": "code",
      "execution_count": 51,
      "metadata": {
        "colab": {
          "base_uri": "https://localhost:8080/"
        },
        "id": "D7_rQJZTBsh1",
        "outputId": "6ec90859-5e88-4037-a0fc-48e62fe7137b"
      },
      "outputs": [
        {
          "name": "stdout",
          "output_type": "stream",
          "text": [
            "[[1 2 2]\n",
            " [4 5 6]\n",
            " [7 8 9]]\n",
            "[1 2 2 4 5 6 7 8 9]\n"
          ]
        }
      ],
      "source": [
        "matrix = np.array([[1,2,2],[4,5,6],[7,8,9]])\n",
        "flattened = matrix.flatten()\n",
        "print(matrix)\n",
        "print(flattened)"
      ]
    },
    {
      "cell_type": "markdown",
      "metadata": {
        "id": "0rXheAZDCYL8"
      },
      "source": [
        "#Ejercicio: Análisis de Ventas Mensuales con NumPy\n",
        "El objetivo de este ejercicio es trabajar con arrays de NumPy para analizar y manipular datos de ventas de tres productos a lo largo de un año. A través de diversas operaciones, explorarás cómo usar NumPy para obtener estadísticas, realizar manipulaciones avanzadas y aplicar técnicas de indexación para extraer información clave."
      ]
    },
    {
      "cell_type": "markdown",
      "metadata": {
        "id": "mx80m-1TDQLU"
      },
      "source": [
        "Paso 1: Crear Arrays con Datos de Ventas\n",
        "\n",
        "Usa la librería numpy para crear los siguientes arrays:\n",
        "meses: un array con los nombres de los meses del año.\n",
        "ventas_A, ventas_B, ventas_C: arrays que representan las ventas mensuales de tres productos diferentes."
      ]
    },
    {
      "cell_type": "code",
      "execution_count": 52,
      "metadata": {
        "id": "L9hdzbxSCk9l"
      },
      "outputs": [],
      "source": [
        "import numpy as np\n",
        "\n",
        "#Paso 1: Crear Arrays con Datos de Ventas\n",
        "meses = np.array(['Enero', 'Febrero', 'Marzo', 'Abril', 'Mayo', 'Junio',\n",
        "                  'Julio', 'Agosto', 'Septiembre', 'Octubre', 'Noviembre', 'Diciembre'])\n",
        "ventas_A = np.array([150, 200, 250, 300, 220, 210, 180, 190, 230, 240, 280, 300])\n",
        "ventas_B = np.array([180, 210, 230, 250, 270, 260, 240, 250, 270, 290, 310, 330])\n",
        "ventas_C = np.array([200, 220, 240, 260, 280, 300, 320, 340, 360, 380, 400, 420])"
      ]
    },
    {
      "cell_type": "markdown",
      "metadata": {
        "id": "pnlOfPqeDSQ5"
      },
      "source": [
        "Paso 2: Estadísticas Básicas\n",
        "\n",
        "Calcula la media y la suma de ventas para los productos A, B y C usando las funciones de NumPy.\n",
        "Imprime estos valores en el formato siguiente:\n",
        "Media de ventas Producto A: <valor>\n",
        "Suma de ventas Producto A: <valor>\n",
        "Repite para los productos B y C.\n"
      ]
    },
    {
      "cell_type": "code",
      "execution_count": 58,
      "metadata": {
        "colab": {
          "base_uri": "https://localhost:8080/"
        },
        "id": "ia-uzhebDUNN",
        "outputId": "46ced83d-5bd1-48ac-e7ae-9aafe774ce63"
      },
      "outputs": [
        {
          "name": "stdout",
          "output_type": "stream",
          "text": [
            "La media de las ventas A es 229.16666666666666 COP y el total de las ventas es 2750\n",
            "La suma de las ventas B es 229.16666666666666 COP y el total de las ventas es 3090\n",
            "La suma de las ventas C es 229.16666666666666 COP y el total de las ventas es 3720\n"
          ]
        }
      ],
      "source": [
        "media_ventas_A =np.mean(ventas_A)\n",
        "suma_ventas_A = np.sum(ventas_A)\n",
        "media_ventas_B =np.mean(ventas_B)\n",
        "suma_ventas_B = np.sum(ventas_B)\n",
        "media_ventas_C =np.mean(ventas_C)\n",
        "suma_ventas_C = np.sum(ventas_C)\n",
        "\n",
        "print(f\"La media de las ventas A es {media_ventas_A} COP y el total de las ventas es {suma_ventas_A}\")\n",
        "print(f\"La suma de las ventas B es {media_ventas_A} COP y el total de las ventas es {suma_ventas_B}\")\n",
        "print(f\"La suma de las ventas C es {media_ventas_A} COP y el total de las ventas es {suma_ventas_C}\")"
      ]
    },
    {
      "cell_type": "markdown",
      "metadata": {
        "id": "jyTLJvrjDVDX"
      },
      "source": [
        "Paso 3: Manipulación y Análisis de Datos\n",
        "\n",
        "Total de ventas por mes: Suma las ventas de los tres productos para cada mes.\n",
        "Promedio de ventas por producto: Calcula el promedio de ventas por producto.\n",
        "Mes con mayor y menor ventas: Identifica qué mes tuvo el total de ventas más alto y cuál el más bajo usando las funciones np.argmax y np.argmin."
      ]
    },
    {
      "cell_type": "code",
      "execution_count": 62,
      "metadata": {
        "colab": {
          "base_uri": "https://localhost:8080/"
        },
        "id": "LRzRRpn8DXEU",
        "outputId": "6cff5eba-47d6-49e8-f4ac-1e2ce4014115"
      },
      "outputs": [
        {
          "name": "stdout",
          "output_type": "stream",
          "text": [
            "Total de ventas por mes: [ 530  630  720  810  770  770  740  780  860  910  990 1050]\n",
            "Promedio de ventas por producto: [229.16666667 257.5        310.        ]\n",
            "Mes con mayor vente: Diciembre\n",
            "Mes con menor venta: Enero\n"
          ]
        }
      ],
      "source": [
        "total_ventas_por_mes = ventas_A + ventas_B + ventas_C\n",
        "promedio_ventas_por_producto = np.array([media_ventas_A, media_ventas_B, media_ventas_C])\n",
        "mes_mayor_ventas = np.argmax(total_ventas_por_mes)\n",
        "mes_menor_ventas = np.argmin(total_ventas_por_mes)\n",
        "\n",
        "print(f\"Total de ventas por mes: {total_ventas_por_mes}\")\n",
        "print(f\"Promedio de ventas por producto: {promedio_ventas_por_producto}\")\n",
        "print(f\"Mes con mayor vente: {meses[mes_mayor_ventas]}\")\n",
        "print(f\"Mes con menor venta: {meses[mes_menor_ventas]}\")"
      ]
    },
    {
      "cell_type": "markdown",
      "metadata": {
        "id": "vkdk5mL2DXwr"
      },
      "source": [
        "Paso 4: Operaciones Avanzadas con NumPy\n",
        "\n",
        "Reshape y Transposición:\n",
        "\n",
        "Crea una matriz 2D con las ventas de los tres productos y transforma su forma (reshape) a un array tridimensional con dimensiones (3, 4, 3).\n",
        "Transpone la matriz de ventas para que las filas se conviertan en columnas.\n",
        "Invertir arrays: Invierte las ventas de cada producto en orden de meses.\n",
        "Aplanar la matriz: Convierte la matriz de ventas a un array unidimensional"
      ]
    },
    {
      "cell_type": "code",
      "execution_count": 65,
      "metadata": {
        "colab": {
          "base_uri": "https://localhost:8080/"
        },
        "id": "q051TxaaDZVc",
        "outputId": "10f6410d-2c72-4c74-c066-4206819ffc44"
      },
      "outputs": [
        {
          "name": "stdout",
          "output_type": "stream",
          "text": [
            "[[150 200 250 300 220 210 180 190 230 240 280 300]\n",
            " [180 210 230 250 270 260 240 250 270 290 310 330]\n",
            " [200 220 240 260 280 300 320 340 360 380 400 420]]\n",
            "[[[150 200 250]\n",
            "  [300 220 210]\n",
            "  [180 190 230]\n",
            "  [240 280 300]]\n",
            "\n",
            " [[180 210 230]\n",
            "  [250 270 260]\n",
            "  [240 250 270]\n",
            "  [290 310 330]]\n",
            "\n",
            " [[200 220 240]\n",
            "  [260 280 300]\n",
            "  [320 340 360]\n",
            "  [380 400 420]]]\n",
            "[[150 180 200]\n",
            " [200 210 220]\n",
            " [250 230 240]\n",
            " [300 250 260]\n",
            " [220 270 280]\n",
            " [210 260 300]\n",
            " [180 240 320]\n",
            " [190 250 340]\n",
            " [230 270 360]\n",
            " [240 290 380]\n",
            " [280 310 400]\n",
            " [300 330 420]]\n",
            "[150 200 250 300 220 210 180 190 230 240 280 300 180 210 230 250 270 260\n",
            " 240 250 270 290 310 330 200 220 240 260 280 300 320 340 360 380 400 420]\n"
          ]
        }
      ],
      "source": [
        "matrix = np.array([ventas_A, ventas_B, ventas_C])\n",
        "matrix_3d = matrix.reshape(3,4,3)\n",
        "transponer = matrix.T\n",
        "flaten = matrix.flatten()\n",
        "\n",
        "print(matrix)\n",
        "print(matrix_3d)\n",
        "print(transponer)\n",
        "print(flaten)"
      ]
    },
    {
      "cell_type": "markdown",
      "metadata": {
        "id": "GF95NxDQDbDC"
      },
      "source": [
        "Paso 5: Análisis de Elementos Únicos\n",
        "\n",
        "Utiliza np.unique para encontrar los elementos únicos en los datos de ventas y cuenta cuántas veces aparece cada uno."
      ]
    },
    {
      "cell_type": "code",
      "execution_count": 67,
      "metadata": {
        "colab": {
          "base_uri": "https://localhost:8080/"
        },
        "id": "WuZeWH1nDbrk",
        "outputId": "b150bbcc-ee01-4071-9f2e-03627007f564"
      },
      "outputs": [
        {
          "name": "stdout",
          "output_type": "stream",
          "text": [
            "[150 180 190 200 210 220 230 240 250 260 270 280 290 300 310 320 330 340\n",
            " 360 380 400 420]\n",
            "[1 2 1 2 2 2 2 3 3 2 2 2 1 3 1 1 1 1 1 1 1 1]\n"
          ]
        }
      ],
      "source": [
        "unicos = matrix.unique()\n",
        "contar = matrix.count()\n",
        "print(unicos)\n",
        "print(contar)"
      ]
    },
    {
      "cell_type": "markdown",
      "metadata": {
        "id": "oDMf0paZDdoK"
      },
      "source": [
        "Paso 6: Indexación y Slicing\n",
        "\n",
        "Ventas del primer trimestre: Extrae las ventas de los tres primeros meses del año.\n",
        "Indexación booleana: Selecciona los meses donde el total de ventas de los tres productos supere los 800.\n",
        "Selección avanzada: Usa una lista de índices para seleccionar las ventas de los meses pares (o selecciona los meses a tu elección) y muestra esas ventas en una nueva matriz."
      ]
    },
    {
      "cell_type": "code",
      "execution_count": 73,
      "metadata": {
        "colab": {
          "base_uri": "https://localhost:8080/"
        },
        "id": "I71gyLb6DeYE",
        "outputId": "8473adc3-a1eb-408c-b8dd-034058cd37dc"
      },
      "outputs": [
        {
          "name": "stdout",
          "output_type": "stream",
          "text": [
            "[ 530  630  720  810  770  770  740  780  860  910  990 1050]\n",
            "[530 630 720]\n",
            "\n",
            "Meses con ventas totales superiores a 800:\n",
            "['Abril' 'Septiembre' 'Octubre' 'Noviembre' 'Diciembre']\n",
            "\n",
            "Ventas totales superiores a 800:\n",
            "[ 810  860  910  990 1050]\n",
            "\n",
            "Ventas de los meses pares:\n",
            "['Febrero' 'Abril' 'Junio' 'Agosto' 'Octubre' 'Diciembre']\n",
            "[[200 300 210 190 240 300]\n",
            " [210 250 260 250 290 330]\n",
            " [220 260 300 340 380 420]]\n"
          ]
        }
      ],
      "source": [
        "print(total_ventas_por_mes)\n",
        "primer_trimestre = total_ventas_por_mes[:3]\n",
        "print(primer_trimestre)\n",
        "\n",
        "# Select months where total sales are greater than 800\n",
        "meses_altas_ventas = meses[total_ventas_por_mes > 800]\n",
        "ventas_altas_ventas = total_ventas_por_mes[total_ventas_por_mes > 800]\n",
        "\n",
        "print(\"\\nMeses con ventas totales superiores a 800:\")\n",
        "print(meses_altas_ventas)\n",
        "print(\"\\nVentas totales superiores a 800:\")\n",
        "print(ventas_altas_ventas)\n",
        "\n",
        "# Selection using a list of indices for even months (or your choice)\n",
        "# Let's select the months at indices 1, 3, 5, 7, 9, 11 (February, April, June, August, October, December)\n",
        "indices_pares = [1, 3, 5, 7, 9, 11]\n",
        "meses_pares = meses[indices_pares]\n",
        "ventas_pares = matrix[:, indices_pares]\n",
        "\n",
        "print(\"\\nVentas de los meses pares:\")\n",
        "print(meses_pares)\n",
        "print(ventas_pares)"
      ]
    },
    {
      "cell_type": "code",
      "execution_count": null,
      "metadata": {
        "id": "mURa5ADUdz3D"
      },
      "outputs": [],
      "source": []
    }
  ],
  "metadata": {
    "colab": {
      "provenance": []
    },
    "kernelspec": {
      "display_name": "Python 3",
      "name": "python3"
    },
    "language_info": {
      "name": "python"
    }
  },
  "nbformat": 4,
  "nbformat_minor": 0
}
