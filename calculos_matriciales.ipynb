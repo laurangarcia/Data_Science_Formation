{
 "cells": [
  {
   "cell_type": "markdown",
   "metadata": {
    "id": "AtTsWIn-fVA2"
   },
   "source": [
    "# Calculos matriciales"
   ]
  },
  {
   "cell_type": "code",
   "execution_count": null,
   "metadata": {
    "colab": {
     "base_uri": "https://localhost:8080/"
    },
    "executionInfo": {
     "elapsed": 14,
     "status": "ok",
     "timestamp": 1753210594284,
     "user": {
      "displayName": "Laura Nicolle Garcia Villarreal",
      "userId": "01999272368212854946"
     },
     "user_tz": 300
    },
    "id": "CgKsxrbBfQ0W",
    "outputId": "22a889fd-2136-494a-8992-cf7f7f632931"
   },
   "outputs": [
    {
     "name": "stdout",
     "output_type": "stream",
     "text": [
      "[[ 6  8]\n",
      " [10 12]]\n"
     ]
    }
   ],
   "source": [
    "import numpy as np\n",
    "\n",
    "A = np.array([[1,2],[3,4]])\n",
    "B = np.array([[5,6],[7,8]])\n",
    "\n",
    "#suma\n",
    "sum = A + B\n",
    "print(sum)"
   ]
  },
  {
   "cell_type": "code",
   "execution_count": null,
   "metadata": {
    "colab": {
     "base_uri": "https://localhost:8080/"
    },
    "executionInfo": {
     "elapsed": 20,
     "status": "ok",
     "timestamp": 1753210654317,
     "user": {
      "displayName": "Laura Nicolle Garcia Villarreal",
      "userId": "01999272368212854946"
     },
     "user_tz": 300
    },
    "id": "vVOI6--Afiss",
    "outputId": "3bb52e17-374e-4851-f561-133b64dd616d"
   },
   "outputs": [
    {
     "name": "stdout",
     "output_type": "stream",
     "text": [
      "[[19 22]\n",
      " [43 50]]\n"
     ]
    }
   ],
   "source": [
    "#producto\n",
    "prod = A * B\n",
    "producto = np.dot(A,B)\n",
    "print(producto)"
   ]
  },
  {
   "cell_type": "code",
   "execution_count": null,
   "metadata": {
    "colab": {
     "base_uri": "https://localhost:8080/"
    },
    "executionInfo": {
     "elapsed": 31,
     "status": "ok",
     "timestamp": 1753210769351,
     "user": {
      "displayName": "Laura Nicolle Garcia Villarreal",
      "userId": "01999272368212854946"
     },
     "user_tz": 300
    },
    "id": "WB0-TeMIfyVy",
    "outputId": "fe6e4e7b-e70c-4d16-c89c-82d7b0617f4b"
   },
   "outputs": [
    {
     "name": "stdout",
     "output_type": "stream",
     "text": [
      "-2.0000000000000004\n",
      "[[-2.   1. ]\n",
      " [ 1.5 -0.5]]\n"
     ]
    }
   ],
   "source": [
    "#Determinante\n",
    "det_A = np.linalg.det(A)\n",
    "inversa = np.linalg.inv(A)\n",
    "print(det_A)\n",
    "print(inversa)"
   ]
  },
  {
   "cell_type": "code",
   "execution_count": null,
   "metadata": {
    "colab": {
     "base_uri": "https://localhost:8080/"
    },
    "executionInfo": {
     "elapsed": 6,
     "status": "ok",
     "timestamp": 1753210834712,
     "user": {
      "displayName": "Laura Nicolle Garcia Villarreal",
      "userId": "01999272368212854946"
     },
     "user_tz": 300
    },
    "id": "QP8amNWZgGOB",
    "outputId": "f51c87bd-0c22-4b4a-8cc3-fec69437b9f7"
   },
   "outputs": [
    {
     "name": "stdout",
     "output_type": "stream",
     "text": [
      "[0.  0.5]\n"
     ]
    }
   ],
   "source": [
    "# Resolver Ax = b\n",
    "b = np.array([1,2])\n",
    "x = np.linalg.solve(A,b)\n",
    "print(x)"
   ]
  },
  {
   "cell_type": "code",
   "execution_count": null,
   "metadata": {
    "id": "5kAT770Bgk5S"
   },
   "outputs": [],
   "source": []
  }
 ],
 "metadata": {
  "colab": {
   "authorship_tag": "ABX9TyPx8Sa+vI8GXauEl4fOsQer",
   "provenance": []
  },
  "kernelspec": {
   "display_name": "Python 3",
   "name": "python3"
  },
  "language_info": {
   "name": "python"
  }
 },
 "nbformat": 4,
 "nbformat_minor": 0
}
