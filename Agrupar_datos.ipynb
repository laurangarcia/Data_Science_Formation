{
 "cells": [
  {
   "cell_type": "code",
   "execution_count": 12,
   "metadata": {
    "colab": {
     "base_uri": "https://localhost:8080/"
    },
    "executionInfo": {
     "elapsed": 2376,
     "status": "ok",
     "timestamp": 1753276356596,
     "user": {
      "displayName": "Laura Nicolle Garcia Villarreal",
      "userId": "01999272368212854946"
     },
     "user_tz": 300
    },
    "id": "KZxaqLMBWbDd",
    "outputId": "a8c3e355-24af-4ff5-d570-c5dae9254087"
   },
   "outputs": [
    {
     "name": "stdout",
     "output_type": "stream",
     "text": [
      "Drive already mounted at /content/drive; to attempt to forcibly remount, call drive.mount(\"/content/drive\", force_remount=True).\n",
      "       InvoiceNo StockCode                          Description  Quantity  \\\n",
      "0         536365    85123A   WHITE HANGING HEART T-LIGHT HOLDER         6   \n",
      "1         536365     71053                  WHITE METAL LANTERN         6   \n",
      "2         536365    84406B       CREAM CUPID HEARTS COAT HANGER         8   \n",
      "3         536365    84029G  KNITTED UNION FLAG HOT WATER BOTTLE         6   \n",
      "4         536365    84029E       RED WOOLLY HOTTIE WHITE HEART.         6   \n",
      "...          ...       ...                                  ...       ...   \n",
      "541904    581587     22613          PACK OF 20 SPACEBOY NAPKINS        12   \n",
      "541905    581587     22899         CHILDREN'S APRON DOLLY GIRL          6   \n",
      "541906    581587     23254        CHILDRENS CUTLERY DOLLY GIRL          4   \n",
      "541907    581587     23255      CHILDRENS CUTLERY CIRCUS PARADE         4   \n",
      "541908    581587     22138        BAKING SET 9 PIECE RETROSPOT          3   \n",
      "\n",
      "                InvoiceDate  UnitPrice  CustomerID         Country  \n",
      "0       2010-12-01 08:26:00       2.55     17850.0  United Kingdom  \n",
      "1       2010-12-01 08:26:00       3.39     17850.0  United Kingdom  \n",
      "2       2010-12-01 08:26:00       2.75     17850.0  United Kingdom  \n",
      "3       2010-12-01 08:26:00       3.39     17850.0  United Kingdom  \n",
      "4       2010-12-01 08:26:00       3.39     17850.0  United Kingdom  \n",
      "...                     ...        ...         ...             ...  \n",
      "541904  2011-12-09 12:50:00       0.85     12680.0          France  \n",
      "541905  2011-12-09 12:50:00       2.10     12680.0          France  \n",
      "541906  2011-12-09 12:50:00       4.15     12680.0          France  \n",
      "541907  2011-12-09 12:50:00       4.15     12680.0          France  \n",
      "541908  2011-12-09 12:50:00       4.95     12680.0          France  \n",
      "\n",
      "[541909 rows x 8 columns]\n"
     ]
    }
   ],
   "source": [
    "from google.colab import drive\n",
    "\n",
    "drive.mount('/content/drive')\n",
    "file_path = \"/content/drive/MyDrive/Colab Notebooks/online_retail.csv\"\n",
    "\n",
    "sales_data = pd.read_csv(file_path)\n",
    "print(sales_data.head())"
   ]
  },
  {
   "cell_type": "markdown",
   "metadata": {
    "id": "3FJyLN59WXS0"
   },
   "source": [
    "# Groupby"
   ]
  },
  {
   "cell_type": "code",
   "execution_count": 10,
   "metadata": {
    "colab": {
     "base_uri": "https://localhost:8080/"
    },
    "executionInfo": {
     "elapsed": 7,
     "status": "ok",
     "timestamp": 1753276071457,
     "user": {
      "displayName": "Laura Nicolle Garcia Villarreal",
      "userId": "01999272368212854946"
     },
     "user_tz": 300
    },
    "id": "sz2jVoTzYPd-",
    "outputId": "e244c129-7f23-44af-e355-63b79f5fa86b"
   },
   "outputs": [
    {
     "name": "stdout",
     "output_type": "stream",
     "text": [
      "Country\n",
      "United Kingdom          495478\n",
      "Germany                   9495\n",
      "France                    8557\n",
      "EIRE                      8196\n",
      "Spain                     2533\n",
      "Netherlands               2371\n",
      "Belgium                   2069\n",
      "Switzerland               2002\n",
      "Portugal                  1519\n",
      "Australia                 1259\n",
      "Norway                    1086\n",
      "Italy                      803\n",
      "Channel Islands            758\n",
      "Finland                    695\n",
      "Cyprus                     622\n",
      "Sweden                     462\n",
      "Unspecified                446\n",
      "Austria                    401\n",
      "Denmark                    389\n",
      "Japan                      358\n",
      "Poland                     341\n",
      "Israel                     297\n",
      "USA                        291\n",
      "Hong Kong                  288\n",
      "Singapore                  229\n",
      "Iceland                    182\n",
      "Canada                     151\n",
      "Greece                     146\n",
      "Malta                      127\n",
      "United Arab Emirates        68\n",
      "European Community          61\n",
      "RSA                         58\n",
      "Lebanon                     45\n",
      "Lithuania                   35\n",
      "Brazil                      32\n",
      "Czech Republic              30\n",
      "Bahrain                     19\n",
      "Saudi Arabia                10\n",
      "Name: count, dtype: int64\n"
     ]
    }
   ],
   "source": [
    "country_count = sales_data['Country'].value_counts()\n",
    "print(country_count)"
   ]
  },
  {
   "cell_type": "code",
   "execution_count": 13,
   "metadata": {
    "colab": {
     "base_uri": "https://localhost:8080/"
    },
    "executionInfo": {
     "elapsed": 36,
     "status": "ok",
     "timestamp": 1753276511064,
     "user": {
      "displayName": "Laura Nicolle Garcia Villarreal",
      "userId": "01999272368212854946"
     },
     "user_tz": 300
    },
    "id": "T6vNpo7DY9wp",
    "outputId": "5f832f76-21df-47f3-d14d-cd069fa89476"
   },
   "outputs": [
    {
     "name": "stdout",
     "output_type": "stream",
     "text": [
      "Country\n",
      "Australia                 83653\n",
      "Austria                    4827\n",
      "Bahrain                     260\n",
      "Belgium                   23152\n",
      "Brazil                      356\n",
      "Canada                     2763\n",
      "Channel Islands            9479\n",
      "Cyprus                     6317\n",
      "Czech Republic              592\n",
      "Denmark                    8188\n",
      "EIRE                     142637\n",
      "European Community          497\n",
      "Finland                   10666\n",
      "France                   110480\n",
      "Germany                  117448\n",
      "Greece                     1556\n",
      "Hong Kong                  4769\n",
      "Iceland                    2458\n",
      "Israel                     4353\n",
      "Italy                      7999\n",
      "Japan                     25218\n",
      "Lebanon                     386\n",
      "Lithuania                   652\n",
      "Malta                       944\n",
      "Netherlands              200128\n",
      "Norway                    19247\n",
      "Poland                     3653\n",
      "Portugal                  16180\n",
      "RSA                         352\n",
      "Saudi Arabia                 75\n",
      "Singapore                  5234\n",
      "Spain                     26824\n",
      "Sweden                    35637\n",
      "Switzerland               30325\n",
      "USA                        1034\n",
      "United Arab Emirates        982\n",
      "United Kingdom          4263829\n",
      "Unspecified                3300\n",
      "Name: Quantity, dtype: int64\n"
     ]
    }
   ],
   "source": [
    "country_group = sales_data.groupby('Country')['Quantity'].sum()\n",
    "print(country_group)"
   ]
  },
  {
   "cell_type": "code",
   "execution_count": 16,
   "metadata": {
    "colab": {
     "base_uri": "https://localhost:8080/"
    },
    "executionInfo": {
     "elapsed": 46,
     "status": "ok",
     "timestamp": 1753276644104,
     "user": {
      "displayName": "Laura Nicolle Garcia Villarreal",
      "userId": "01999272368212854946"
     },
     "user_tz": 300
    },
    "id": "pzlIS8Vwbj-C",
    "outputId": "50a84d25-3a2f-464d-8f7f-ecd89d4206fc"
   },
   "outputs": [
    {
     "name": "stdout",
     "output_type": "stream",
     "text": [
      "Country\n",
      "Australia                  4054.750\n",
      "Austria                    1701.520\n",
      "Bahrain                      86.570\n",
      "Belgium                    7540.130\n",
      "Brazil                      142.600\n",
      "Canada                      910.580\n",
      "Channel Islands            3738.550\n",
      "Cyprus                     3920.070\n",
      "Czech Republic               88.150\n",
      "Denmark                    1266.950\n",
      "EIRE                      48447.190\n",
      "European Community          294.050\n",
      "Finland                    3786.850\n",
      "France                    43031.990\n",
      "Germany                   37666.000\n",
      "Greece                      713.290\n",
      "Hong Kong                 12241.500\n",
      "Iceland                     481.210\n",
      "Israel                     1079.040\n",
      "Italy                      3879.390\n",
      "Japan                       814.860\n",
      "Lebanon                     242.440\n",
      "Lithuania                    99.440\n",
      "Malta                       666.010\n",
      "Netherlands                6492.550\n",
      "Norway                     6529.060\n",
      "Poland                     1422.270\n",
      "Portugal                  13037.540\n",
      "RSA                         248.100\n",
      "Saudi Arabia                 24.110\n",
      "Singapore                 25108.890\n",
      "Spain                     12633.450\n",
      "Sweden                     1806.830\n",
      "Switzerland                6813.690\n",
      "USA                         644.980\n",
      "United Arab Emirates        229.890\n",
      "United Kingdom          2245715.474\n",
      "Unspecified                1204.010\n",
      "Name: UnitPrice, dtype: float64\n"
     ]
    }
   ],
   "source": [
    "country_group = sales_data.groupby('Country')['UnitPrice'].sum()\n",
    "print(country_group)"
   ]
  },
  {
   "cell_type": "code",
   "execution_count": 15,
   "metadata": {
    "colab": {
     "base_uri": "https://localhost:8080/"
    },
    "executionInfo": {
     "elapsed": 55,
     "status": "ok",
     "timestamp": 1753276611745,
     "user": {
      "displayName": "Laura Nicolle Garcia Villarreal",
      "userId": "01999272368212854946"
     },
     "user_tz": 300
    },
    "id": "IncUfJA7bHKI",
    "outputId": "f5d56b8d-eb82-4da0-9eae-682d7f90777e"
   },
   "outputs": [
    {
     "name": "stdout",
     "output_type": "stream",
     "text": [
      "                            mean       min       max          sum\n",
      "Country                                                          \n",
      "Australia               3.220612      0.00    350.00     4054.750\n",
      "Austria                 4.243192      0.12     40.00     1701.520\n",
      "Bahrain                 4.556316      1.25     12.75       86.570\n",
      "Belgium                 3.644335      0.12     39.95     7540.130\n",
      "Brazil                  4.456250      0.85     10.95      142.600\n",
      "Canada                  6.030331      0.10    550.94      910.580\n",
      "Channel Islands         4.932124      0.19    293.00     3738.550\n",
      "Cyprus                  6.302363      0.12    320.69     3920.070\n",
      "Czech Republic          2.938333      0.29     40.00       88.150\n",
      "Denmark                 3.256941      0.21     18.00     1266.950\n",
      "EIRE                    5.911077      0.00   1917.00    48447.190\n",
      "European Community      4.820492      0.55     18.00      294.050\n",
      "Finland                 5.448705      0.12    275.60     3786.850\n",
      "France                  5.028864      0.00   4161.06    43031.990\n",
      "Germany                 3.966930      0.00    599.50    37666.000\n",
      "Greece                  4.885548      0.14     50.00      713.290\n",
      "Hong Kong              42.505208      0.21   2653.95    12241.500\n",
      "Iceland                 2.644011      0.25     12.75      481.210\n",
      "Israel                  3.633131      0.06    125.00     1079.040\n",
      "Italy                   4.831121      0.12    300.00     3879.390\n",
      "Japan                   2.276145      0.21     45.57      814.860\n",
      "Lebanon                 5.387556      0.55     14.95      242.440\n",
      "Lithuania               2.841143      1.25      5.95       99.440\n",
      "Malta                   5.244173      0.19     65.00      666.010\n",
      "Netherlands             2.738317      0.00    206.40     6492.550\n",
      "Norway                  6.012026      0.00    700.00     6529.060\n",
      "Poland                  4.170880      0.19     40.00     1422.270\n",
      "Portugal                8.582976      0.12   1241.98    13037.540\n",
      "RSA                     4.277586      0.00     14.95      248.100\n",
      "Saudi Arabia            2.411000      0.42      5.49       24.110\n",
      "Singapore             109.645808      0.19   3949.32    25108.890\n",
      "Spain                   4.987544      0.00   1715.85    12633.450\n",
      "Sweden                  3.910887      0.19     40.00     1806.830\n",
      "Switzerland             3.403442      0.00     40.00     6813.690\n",
      "USA                     2.216426      0.42     16.95      644.980\n",
      "United Arab Emirates    3.380735      0.29     37.50      229.890\n",
      "United Kingdom          4.532422 -11062.06  38970.00  2245715.474\n",
      "Unspecified             2.699574      0.19     16.95     1204.010\n"
     ]
    }
   ],
   "source": [
    "country_stats = sales_data.groupby('Country')['UnitPrice'].agg(['mean', 'min', 'max', 'sum'])\n",
    "print(country_stats)"
   ]
  },
  {
   "cell_type": "code",
   "execution_count": 17,
   "metadata": {
    "colab": {
     "base_uri": "https://localhost:8080/"
    },
    "executionInfo": {
     "elapsed": 113,
     "status": "ok",
     "timestamp": 1753276927424,
     "user": {
      "displayName": "Laura Nicolle Garcia Villarreal",
      "userId": "01999272368212854946"
     },
     "user_tz": 300
    },
    "id": "6s5dhnpeba3o",
    "outputId": "76078473-2dfa-4f47-c62f-570e937d7dbf"
   },
   "outputs": [
    {
     "name": "stdout",
     "output_type": "stream",
     "text": [
      "Country      StockCode\n",
      "Australia    15036        600\n",
      "             15056BL        3\n",
      "             16161P       400\n",
      "             16169E        25\n",
      "             20665          6\n",
      "                         ... \n",
      "Unspecified  85180A         2\n",
      "             85180B         1\n",
      "             85212         12\n",
      "             85213         12\n",
      "             85227         10\n",
      "Name: Quantity, Length: 19839, dtype: int64\n"
     ]
    }
   ],
   "source": [
    "#Hicimos una agrupacion de todos los paises, y luego dentro de cada pais tambien agrupamos el StockCode\n",
    "country_stock_group = sales_data.groupby(['Country', 'StockCode'])['Quantity'].sum()\n",
    "print(country_stock_group)"
   ]
  },
  {
   "cell_type": "code",
   "execution_count": 21,
   "metadata": {
    "colab": {
     "base_uri": "https://localhost:8080/"
    },
    "executionInfo": {
     "elapsed": 82,
     "status": "ok",
     "timestamp": 1753277605585,
     "user": {
      "displayName": "Laura Nicolle Garcia Villarreal",
      "userId": "01999272368212854946"
     },
     "user_tz": 300
    },
    "id": "WiY6zTgicsyh",
    "outputId": "aa8ebeac-f313-4f8a-d174-a858c7729012"
   },
   "outputs": [
    {
     "name": "stdout",
     "output_type": "stream",
     "text": [
      "Country\n",
      "Australia                137077.270\n",
      "Austria                   10154.320\n",
      "Bahrain                     548.400\n",
      "Belgium                   40910.960\n",
      "Brazil                     1143.600\n",
      "Canada                     3666.380\n",
      "Channel Islands           20086.290\n",
      "Cyprus                    12946.290\n",
      "Czech Republic              707.720\n",
      "Denmark                   18768.140\n",
      "EIRE                     263276.820\n",
      "European Community         1291.750\n",
      "Finland                   22326.740\n",
      "France                   197403.900\n",
      "Germany                  221698.210\n",
      "Greece                     4710.520\n",
      "Hong Kong                 10117.040\n",
      "Iceland                    4310.000\n",
      "Israel                     7907.820\n",
      "Italy                     16890.510\n",
      "Japan                     35340.620\n",
      "Lebanon                    1693.880\n",
      "Lithuania                  1661.060\n",
      "Malta                      2505.470\n",
      "Netherlands              284661.540\n",
      "Norway                    35163.460\n",
      "Poland                     7213.140\n",
      "Portugal                  29367.020\n",
      "RSA                        1002.310\n",
      "Saudi Arabia                131.170\n",
      "Singapore                  9120.390\n",
      "Spain                     54774.580\n",
      "Sweden                    36595.910\n",
      "Switzerland               56385.350\n",
      "USA                        1730.920\n",
      "United Arab Emirates       1902.280\n",
      "United Kingdom          8187806.364\n",
      "Unspecified                4749.790\n",
      "Name: Revenue, dtype: float64\n"
     ]
    }
   ],
   "source": [
    "#Calcular los ingresos totales (revenue) por país, multiplicando la cantidad de\n",
    "# productos vendidos por el precio unitario, agrupando los datos por país (Country).\n",
    "\n",
    "sales_data['Revenue'] = sales_data['Quantity'] * sales_data['UnitPrice']\n",
    "revenue_per_country = sales_data.groupby('Country')['Revenue'].sum()\n",
    "print(revenue_per_country)\n"
   ]
  },
  {
   "cell_type": "markdown",
   "metadata": {
    "id": "S7ZQEzz8feix"
   },
   "source": [
    "¿Cuál es el top 3 en mejores paises en ventas?\n",
    "\n",
    "¿Cuál es el top 3 en peores paises en ventas?"
   ]
  },
  {
   "cell_type": "code",
   "execution_count": 23,
   "metadata": {
    "colab": {
     "base_uri": "https://localhost:8080/"
    },
    "executionInfo": {
     "elapsed": 15,
     "status": "ok",
     "timestamp": 1753278064594,
     "user": {
      "displayName": "Laura Nicolle Garcia Villarreal",
      "userId": "01999272368212854946"
     },
     "user_tz": 300
    },
    "id": "tl7nQxKdeY29",
    "outputId": "28c51ed6-b277-48c8-e5bc-91a1b24134e1"
   },
   "outputs": [
    {
     "name": "stdout",
     "output_type": "stream",
     "text": [
      "Country\n",
      "Australia                137077.270\n",
      "Austria                   10154.320\n",
      "Bahrain                     548.400\n",
      "Belgium                   40910.960\n",
      "Brazil                     1143.600\n",
      "Canada                     3666.380\n",
      "Channel Islands           20086.290\n",
      "Cyprus                    12946.290\n",
      "Czech Republic              707.720\n",
      "Denmark                   18768.140\n",
      "EIRE                     263276.820\n",
      "European Community         1291.750\n",
      "Finland                   22326.740\n",
      "France                   197403.900\n",
      "Germany                  221698.210\n",
      "Greece                     4710.520\n",
      "Hong Kong                 10117.040\n",
      "Iceland                    4310.000\n",
      "Israel                     7907.820\n",
      "Italy                     16890.510\n",
      "Japan                     35340.620\n",
      "Lebanon                    1693.880\n",
      "Lithuania                  1661.060\n",
      "Malta                      2505.470\n",
      "Netherlands              284661.540\n",
      "Norway                    35163.460\n",
      "Poland                     7213.140\n",
      "Portugal                  29367.020\n",
      "RSA                        1002.310\n",
      "Saudi Arabia                131.170\n",
      "Singapore                  9120.390\n",
      "Spain                     54774.580\n",
      "Sweden                    36595.910\n",
      "Switzerland               56385.350\n",
      "USA                        1730.920\n",
      "United Arab Emirates       1902.280\n",
      "United Kingdom          8187806.364\n",
      "Unspecified                4749.790\n",
      "Name: Revenue, dtype: float64\n"
     ]
    }
   ],
   "source": [
    "#sales_per_country = sales_data.groupby('Country')['Quantity']* sales_data['UnitPrice']\n",
    "print(revenue_per_country)"
   ]
  },
  {
   "cell_type": "code",
   "execution_count": 25,
   "metadata": {
    "colab": {
     "base_uri": "https://localhost:8080/"
    },
    "executionInfo": {
     "elapsed": 44,
     "status": "ok",
     "timestamp": 1753278304530,
     "user": {
      "displayName": "Laura Nicolle Garcia Villarreal",
      "userId": "01999272368212854946"
     },
     "user_tz": 300
    },
    "id": "zmlxIdzSgxOP",
    "outputId": "0f593fd1-ea03-405a-e377-460095332570"
   },
   "outputs": [
    {
     "name": "stdout",
     "output_type": "stream",
     "text": [
      "Top 3 countries by revenue:\n",
      "Country\n",
      "United Kingdom    8187806.364\n",
      "Netherlands        284661.540\n",
      "EIRE               263276.820\n",
      "Name: Revenue, dtype: float64\n",
      "\n",
      "Bottom 3 countries by revenue:\n",
      "Country\n",
      "Saudi Arabia      131.17\n",
      "Bahrain           548.40\n",
      "Czech Republic    707.72\n",
      "Name: Revenue, dtype: float64\n"
     ]
    }
   ],
   "source": [
    "# Top 3 countries by revenue\n",
    "# La función SORT se utiliza para ordenar datos en una matriz o rango, ya sea en orden ascendente o descendente,\n",
    "# sort(rango, columna_orden, es_ascendente, [columna_orden2, es_ascendente2, ...])\n",
    "\n",
    "top_countries = revenue_per_country.sort_values(ascending=False).head(3)\n",
    "print(\"Top 3 countries by revenue:\")\n",
    "print(top_countries)\n",
    "\n",
    "# Bottom 3 countries by revenue\n",
    "bottom_countries = revenue_per_country.sort_values(ascending=True).head(3)\n",
    "print(\"\\nBottom 3 countries by revenue:\")\n",
    "print(bottom_countries)"
   ]
  }
 ],
 "metadata": {
  "colab": {
   "authorship_tag": "ABX9TyP9kkec9zIOFG1iwMnMHwdo",
   "mount_file_id": "1E1FJqn5p-vaq6sMpEJitMqx3DOLkVaY8",
   "provenance": []
  },
  "kernelspec": {
   "display_name": "Python 3",
   "name": "python3"
  },
  "language_info": {
   "name": "python"
  }
 },
 "nbformat": 4,
 "nbformat_minor": 0
}
