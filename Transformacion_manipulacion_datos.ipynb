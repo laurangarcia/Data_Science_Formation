{
 "cells": [
  {
   "cell_type": "code",
   "execution_count": 3,
   "metadata": {
    "colab": {
     "base_uri": "https://localhost:8080/"
    },
    "executionInfo": {
     "elapsed": 1664,
     "status": "ok",
     "timestamp": 1753219441239,
     "user": {
      "displayName": "Laura Nicolle Garcia Villarreal",
      "userId": "01999272368212854946"
     },
     "user_tz": 300
    },
    "id": "ffDRiml9ARtS",
    "outputId": "85d9d3bc-c0ac-4e6b-bd89-91f70648c9fb"
   },
   "outputs": [
    {
     "name": "stdout",
     "output_type": "stream",
     "text": [
      "Drive already mounted at /content/drive; to attempt to forcibly remount, call drive.mount(\"/content/drive\", force_remount=True).\n"
     ]
    }
   ],
   "source": [
    "import pandas as pd\n",
    "from google.colab import drive\n",
    "drive.mount('/content/drive')\n",
    "\n",
    "path = \"/content/drive/MyDrive/Colab Notebooks/online_retail.csv\"\n",
    "df = pd.read_csv(path)"
   ]
  },
  {
   "cell_type": "code",
   "execution_count": 4,
   "metadata": {
    "colab": {
     "base_uri": "https://localhost:8080/"
    },
    "executionInfo": {
     "elapsed": 94,
     "status": "ok",
     "timestamp": 1753219570243,
     "user": {
      "displayName": "Laura Nicolle Garcia Villarreal",
      "userId": "01999272368212854946"
     },
     "user_tz": 300
    },
    "id": "lcZpMalUBF_P",
    "outputId": "4736c79d-ebcb-4dda-8c99-cbf979850659"
   },
   "outputs": [
    {
     "name": "stdout",
     "output_type": "stream",
     "text": [
      "  InvoiceNo StockCode                          Description  Quantity  \\\n",
      "0    536365    85123A   WHITE HANGING HEART T-LIGHT HOLDER         6   \n",
      "1    536365     71053                  WHITE METAL LANTERN         6   \n",
      "2    536365    84406B       CREAM CUPID HEARTS COAT HANGER         8   \n",
      "3    536365    84029G  KNITTED UNION FLAG HOT WATER BOTTLE         6   \n",
      "4    536365    84029E       RED WOOLLY HOTTIE WHITE HEART.         6   \n",
      "\n",
      "           InvoiceDate  UnitPrice  CustomerID         Country  TotalPrice  \n",
      "0  2010-12-01 08:26:00       2.55     17850.0  United Kingdom       15.30  \n",
      "1  2010-12-01 08:26:00       3.39     17850.0  United Kingdom       20.34  \n",
      "2  2010-12-01 08:26:00       2.75     17850.0  United Kingdom       22.00  \n",
      "3  2010-12-01 08:26:00       3.39     17850.0  United Kingdom       20.34  \n",
      "4  2010-12-01 08:26:00       3.39     17850.0  United Kingdom       20.34  \n"
     ]
    }
   ],
   "source": [
    "#Para crear una nueva columna con dos que ya tenemos\n",
    "df['TotalPrice'] = df['Quantity'] * df['UnitPrice']\n",
    "print(df.head())"
   ]
  },
  {
   "cell_type": "code",
   "execution_count": 6,
   "metadata": {
    "colab": {
     "base_uri": "https://localhost:8080/"
    },
    "executionInfo": {
     "elapsed": 14,
     "status": "ok",
     "timestamp": 1753219730985,
     "user": {
      "displayName": "Laura Nicolle Garcia Villarreal",
      "userId": "01999272368212854946"
     },
     "user_tz": 300
    },
    "id": "Jh8RX8D1BV6o",
    "outputId": "ecc3e546-c4bf-4da2-a380-6ab2637ccace"
   },
   "outputs": [
    {
     "name": "stdout",
     "output_type": "stream",
     "text": [
      "0    False\n",
      "1     True\n",
      "2     True\n",
      "3     True\n",
      "4     True\n",
      "Name: HighValue, dtype: bool\n"
     ]
    }
   ],
   "source": [
    "#Crear una columna con condicional\n",
    "df['HighValue'] = df['TotalPrice'] > 16\n",
    "print(df['HighValue'].head())"
   ]
  },
  {
   "cell_type": "code",
   "execution_count": 7,
   "metadata": {
    "colab": {
     "base_uri": "https://localhost:8080/"
    },
    "executionInfo": {
     "elapsed": 197,
     "status": "ok",
     "timestamp": 1753219771158,
     "user": {
      "displayName": "Laura Nicolle Garcia Villarreal",
      "userId": "01999272368212854946"
     },
     "user_tz": 300
    },
    "id": "EAD9rffdCXzV",
    "outputId": "c83f94a9-e050-4919-fa76-3349e1e15dce"
   },
   "outputs": [
    {
     "name": "stdout",
     "output_type": "stream",
     "text": [
      "<class 'pandas.core.frame.DataFrame'>\n",
      "RangeIndex: 541909 entries, 0 to 541908\n",
      "Data columns (total 10 columns):\n",
      " #   Column       Non-Null Count   Dtype  \n",
      "---  ------       --------------   -----  \n",
      " 0   InvoiceNo    541909 non-null  object \n",
      " 1   StockCode    541909 non-null  object \n",
      " 2   Description  540455 non-null  object \n",
      " 3   Quantity     541909 non-null  int64  \n",
      " 4   InvoiceDate  541909 non-null  object \n",
      " 5   UnitPrice    541909 non-null  float64\n",
      " 6   CustomerID   406829 non-null  float64\n",
      " 7   Country      541909 non-null  object \n",
      " 8   TotalPrice   541909 non-null  float64\n",
      " 9   HighValue    541909 non-null  bool   \n",
      "dtypes: bool(1), float64(3), int64(1), object(5)\n",
      "memory usage: 37.7+ MB\n",
      "None\n"
     ]
    }
   ],
   "source": [
    "print(df.info())"
   ]
  },
  {
   "cell_type": "code",
   "execution_count": 9,
   "metadata": {
    "colab": {
     "base_uri": "https://localhost:8080/"
    },
    "executionInfo": {
     "elapsed": 207,
     "status": "ok",
     "timestamp": 1753219918538,
     "user": {
      "displayName": "Laura Nicolle Garcia Villarreal",
      "userId": "01999272368212854946"
     },
     "user_tz": 300
    },
    "id": "Rk39u8k7Cqmm",
    "outputId": "c6c781c4-2a3b-4565-bba8-e0a159fa6764"
   },
   "outputs": [
    {
     "name": "stdout",
     "output_type": "stream",
     "text": [
      "<class 'pandas.core.frame.DataFrame'>\n",
      "RangeIndex: 541909 entries, 0 to 541908\n",
      "Data columns (total 10 columns):\n",
      " #   Column       Non-Null Count   Dtype         \n",
      "---  ------       --------------   -----         \n",
      " 0   InvoiceNo    541909 non-null  object        \n",
      " 1   StockCode    541909 non-null  object        \n",
      " 2   Description  540455 non-null  object        \n",
      " 3   Quantity     541909 non-null  int64         \n",
      " 4   InvoiceDate  541909 non-null  datetime64[ns]\n",
      " 5   UnitPrice    541909 non-null  float64       \n",
      " 6   CustomerID   406829 non-null  float64       \n",
      " 7   Country      541909 non-null  object        \n",
      " 8   TotalPrice   541909 non-null  float64       \n",
      " 9   HighValue    541909 non-null  bool          \n",
      "dtypes: bool(1), datetime64[ns](1), float64(3), int64(1), object(4)\n",
      "memory usage: 37.7+ MB\n",
      "None\n"
     ]
    }
   ],
   "source": [
    "#Vamos a cambiar el Dtype de InvoiceDate\n",
    "df['InvoiceDate'] = pd.to_datetime(df['InvoiceDate'])\n",
    "print(df.info())"
   ]
  },
  {
   "cell_type": "code",
   "execution_count": 10,
   "metadata": {
    "colab": {
     "base_uri": "https://localhost:8080/"
    },
    "executionInfo": {
     "elapsed": 164,
     "status": "ok",
     "timestamp": 1753220011600,
     "user": {
      "displayName": "Laura Nicolle Garcia Villarreal",
      "userId": "01999272368212854946"
     },
     "user_tz": 300
    },
    "id": "GbUDfB9vDKEW",
    "outputId": "56813f44-1791-4056-e799-81832e2d2184"
   },
   "outputs": [
    {
     "name": "stdout",
     "output_type": "stream",
     "text": [
      "  InvoiceNo StockCode                         Description  Quantity  \\\n",
      "0    536365    85123A  WHITE HANGING HEART T-LIGHT HOLDER         6   \n",
      "1    536365     71053                 WHITE METAL LANTERN         6   \n",
      "2    536365    84406B      CREAM CUPID HEARTS COAT HANGER         8   \n",
      "\n",
      "          InvoiceDate  UnitPrice  CustomerID         Country  TotalPrice  \\\n",
      "0 2010-12-01 08:26:00       2.55     17850.0  United Kingdom       15.30   \n",
      "1 2010-12-01 08:26:00       3.39     17850.0  United Kingdom       20.34   \n",
      "2 2010-12-01 08:26:00       2.75     17850.0  United Kingdom       22.00   \n",
      "\n",
      "   HighValue  DiscountedPrice  \n",
      "0      False            2.295  \n",
      "1       True            3.051  \n",
      "2       True            2.475  \n"
     ]
    }
   ],
   "source": [
    "df['DiscountedPrice'] = df['UnitPrice'].apply(lambda x: x*0.9)\n",
    "print(df.head(3))"
   ]
  },
  {
   "cell_type": "markdown",
   "metadata": {
    "id": "vLb_7MoQD0jv"
   },
   "source": [
    "Transformaciones con datos categoricos"
   ]
  },
  {
   "cell_type": "code",
   "execution_count": 12,
   "metadata": {
    "colab": {
     "base_uri": "https://localhost:8080/"
    },
    "executionInfo": {
     "elapsed": 245,
     "status": "ok",
     "timestamp": 1753220353899,
     "user": {
      "displayName": "Laura Nicolle Garcia Villarreal",
      "userId": "01999272368212854946"
     },
     "user_tz": 300
    },
    "id": "RpehrAwKDlUE",
    "outputId": "a0cae17e-669f-4014-bf59-2776739a8bac"
   },
   "outputs": [
    {
     "name": "stdout",
     "output_type": "stream",
     "text": [
      "  InvoiceNo StockCode                         Description  Quantity  \\\n",
      "0    536365    85123A  WHITE HANGING HEART T-LIGHT HOLDER         6   \n",
      "1    536365     71053                 WHITE METAL LANTERN         6   \n",
      "2    536365    84406B      CREAM CUPID HEARTS COAT HANGER         8   \n",
      "\n",
      "          InvoiceDate  UnitPrice  CustomerID         Country  TotalPrice  \\\n",
      "0 2010-12-01 08:26:00       2.55     17850.0  United Kingdom       15.30   \n",
      "1 2010-12-01 08:26:00       3.39     17850.0  United Kingdom       20.34   \n",
      "2 2010-12-01 08:26:00       2.75     17850.0  United Kingdom       22.00   \n",
      "\n",
      "   HighValue  DiscountedPrice PriceCategory  \n",
      "0      False            2.295        Medium  \n",
      "1       True            3.051        Medium  \n",
      "2       True            2.475        Medium  \n"
     ]
    }
   ],
   "source": [
    "def categorize_price(price):\n",
    "  if price > 50:\n",
    "    return 'High'\n",
    "  elif price < 20:\n",
    "    return 'Medium'\n",
    "  else:\n",
    "    return 'Low'\n",
    "\n",
    "df['PriceCategory'] = df['UnitPrice'].apply(categorize_price)\n",
    "print(df.head(3))"
   ]
  },
  {
   "cell_type": "markdown",
   "metadata": {
    "id": "L6VN9Z1LFmuS"
   },
   "source": [
    "## Groupby\n"
   ]
  },
  {
   "cell_type": "code",
   "execution_count": 13,
   "metadata": {
    "colab": {
     "base_uri": "https://localhost:8080/"
    },
    "executionInfo": {
     "elapsed": 47,
     "status": "ok",
     "timestamp": 1753220622779,
     "user": {
      "displayName": "Laura Nicolle Garcia Villarreal",
      "userId": "01999272368212854946"
     },
     "user_tz": 300
    },
    "id": "SOnimkd2Fsw8",
    "outputId": "1e063b13-25dc-4a70-f7c1-63109040e810"
   },
   "outputs": [
    {
     "name": "stdout",
     "output_type": "stream",
     "text": [
      "Country\n",
      "United Kingdom          495478\n",
      "Germany                   9495\n",
      "France                    8557\n",
      "EIRE                      8196\n",
      "Spain                     2533\n",
      "Netherlands               2371\n",
      "Belgium                   2069\n",
      "Switzerland               2002\n",
      "Portugal                  1519\n",
      "Australia                 1259\n",
      "Norway                    1086\n",
      "Italy                      803\n",
      "Channel Islands            758\n",
      "Finland                    695\n",
      "Cyprus                     622\n",
      "Sweden                     462\n",
      "Unspecified                446\n",
      "Austria                    401\n",
      "Denmark                    389\n",
      "Japan                      358\n",
      "Poland                     341\n",
      "Israel                     297\n",
      "USA                        291\n",
      "Hong Kong                  288\n",
      "Singapore                  229\n",
      "Iceland                    182\n",
      "Canada                     151\n",
      "Greece                     146\n",
      "Malta                      127\n",
      "United Arab Emirates        68\n",
      "European Community          61\n",
      "RSA                         58\n",
      "Lebanon                     45\n",
      "Lithuania                   35\n",
      "Brazil                      32\n",
      "Czech Republic              30\n",
      "Bahrain                     19\n",
      "Saudi Arabia                10\n",
      "Name: count, dtype: int64\n"
     ]
    }
   ],
   "source": [
    "country_count = df['Country'].value_counts()\n",
    "print(country_count)"
   ]
  },
  {
   "cell_type": "code",
   "execution_count": 15,
   "metadata": {
    "colab": {
     "base_uri": "https://localhost:8080/"
    },
    "executionInfo": {
     "elapsed": 33,
     "status": "ok",
     "timestamp": 1753220792737,
     "user": {
      "displayName": "Laura Nicolle Garcia Villarreal",
      "userId": "01999272368212854946"
     },
     "user_tz": 300
    },
    "id": "bINJAf5FF6it",
    "outputId": "76445893-8d8f-48a3-e5e5-c26ef16715cf"
   },
   "outputs": [
    {
     "name": "stdout",
     "output_type": "stream",
     "text": [
      "Country\n",
      "Australia                 83653\n",
      "Austria                    4827\n",
      "Bahrain                     260\n",
      "Belgium                   23152\n",
      "Brazil                      356\n",
      "Canada                     2763\n",
      "Channel Islands            9479\n",
      "Cyprus                     6317\n",
      "Czech Republic              592\n",
      "Denmark                    8188\n",
      "EIRE                     142637\n",
      "European Community          497\n",
      "Finland                   10666\n",
      "France                   110480\n",
      "Germany                  117448\n",
      "Greece                     1556\n",
      "Hong Kong                  4769\n",
      "Iceland                    2458\n",
      "Israel                     4353\n",
      "Italy                      7999\n",
      "Japan                     25218\n",
      "Lebanon                     386\n",
      "Lithuania                   652\n",
      "Malta                       944\n",
      "Netherlands              200128\n",
      "Norway                    19247\n",
      "Poland                     3653\n",
      "Portugal                  16180\n",
      "RSA                         352\n",
      "Saudi Arabia                 75\n",
      "Singapore                  5234\n",
      "Spain                     26824\n",
      "Sweden                    35637\n",
      "Switzerland               30325\n",
      "USA                        1034\n",
      "United Arab Emirates        982\n",
      "United Kingdom          4263829\n",
      "Unspecified                3300\n",
      "Name: Quantity, dtype: int64\n"
     ]
    }
   ],
   "source": [
    "country_group = df.groupby('Country')['Quantity'].sum()\n",
    "print(country_group)"
   ]
  },
  {
   "cell_type": "code",
   "execution_count": 18,
   "metadata": {
    "colab": {
     "base_uri": "https://localhost:8080/"
    },
    "executionInfo": {
     "elapsed": 46,
     "status": "ok",
     "timestamp": 1753220985043,
     "user": {
      "displayName": "Laura Nicolle Garcia Villarreal",
      "userId": "01999272368212854946"
     },
     "user_tz": 300
    },
    "id": "yjUsEIwgGhtd",
    "outputId": "d9731ed6-0473-423c-d39a-5bca0d61fafe"
   },
   "outputs": [
    {
     "name": "stdout",
     "output_type": "stream",
     "text": [
      "                            mean          sum\n",
      "Country                                      \n",
      "Australia               3.220612     4054.750\n",
      "Austria                 4.243192     1701.520\n",
      "Bahrain                 4.556316       86.570\n",
      "Belgium                 3.644335     7540.130\n",
      "Brazil                  4.456250      142.600\n",
      "Canada                  6.030331      910.580\n",
      "Channel Islands         4.932124     3738.550\n",
      "Cyprus                  6.302363     3920.070\n",
      "Czech Republic          2.938333       88.150\n",
      "Denmark                 3.256941     1266.950\n",
      "EIRE                    5.911077    48447.190\n",
      "European Community      4.820492      294.050\n",
      "Finland                 5.448705     3786.850\n",
      "France                  5.028864    43031.990\n",
      "Germany                 3.966930    37666.000\n",
      "Greece                  4.885548      713.290\n",
      "Hong Kong              42.505208    12241.500\n",
      "Iceland                 2.644011      481.210\n",
      "Israel                  3.633131     1079.040\n",
      "Italy                   4.831121     3879.390\n",
      "Japan                   2.276145      814.860\n",
      "Lebanon                 5.387556      242.440\n",
      "Lithuania               2.841143       99.440\n",
      "Malta                   5.244173      666.010\n",
      "Netherlands             2.738317     6492.550\n",
      "Norway                  6.012026     6529.060\n",
      "Poland                  4.170880     1422.270\n",
      "Portugal                8.582976    13037.540\n",
      "RSA                     4.277586      248.100\n",
      "Saudi Arabia            2.411000       24.110\n",
      "Singapore             109.645808    25108.890\n",
      "Spain                   4.987544    12633.450\n",
      "Sweden                  3.910887     1806.830\n",
      "Switzerland             3.403442     6813.690\n",
      "USA                     2.216426      644.980\n",
      "United Arab Emirates    3.380735      229.890\n",
      "United Kingdom          4.532422  2245715.474\n",
      "Unspecified             2.699574     1204.010\n"
     ]
    }
   ],
   "source": [
    "country_stats = df.groupby('Country')['UnitPrice'].agg(['mean', 'sum'])\n",
    "print(country_stats)"
   ]
  },
  {
   "cell_type": "code",
   "execution_count": 19,
   "metadata": {
    "colab": {
     "base_uri": "https://localhost:8080/"
    },
    "executionInfo": {
     "elapsed": 167,
     "status": "ok",
     "timestamp": 1753221128783,
     "user": {
      "displayName": "Laura Nicolle Garcia Villarreal",
      "userId": "01999272368212854946"
     },
     "user_tz": 300
    },
    "id": "cyzY8zt7HEDV",
    "outputId": "fae5242d-999c-49d3-d736-4f6b0f233b81"
   },
   "outputs": [
    {
     "name": "stdout",
     "output_type": "stream",
     "text": [
      "Country      StockCode\n",
      "Australia    15036        600\n",
      "             15056BL        3\n",
      "             16161P       400\n",
      "             16169E        25\n",
      "             20665          6\n",
      "                         ... \n",
      "Unspecified  85180A         2\n",
      "             85180B         1\n",
      "             85212         12\n",
      "             85213         12\n",
      "             85227         10\n",
      "Name: Quantity, Length: 19839, dtype: int64\n"
     ]
    }
   ],
   "source": [
    "country_stock_group = df.groupby(['Country', 'StockCode'])['Quantity'].sum()\n",
    "print(country_stock_group)"
   ]
  },
  {
   "cell_type": "code",
   "execution_count": 21,
   "metadata": {
    "colab": {
     "base_uri": "https://localhost:8080/"
    },
    "executionInfo": {
     "elapsed": 243,
     "status": "ok",
     "timestamp": 1753223228579,
     "user": {
      "displayName": "Laura Nicolle Garcia Villarreal",
      "userId": "01999272368212854946"
     },
     "user_tz": 300
    },
    "id": "BwSa6Pc5Ik6M",
    "outputId": "962f6c2a-f33d-47a8-fafd-6fcc0349f93f"
   },
   "outputs": [
    {
     "name": "stdout",
     "output_type": "stream",
     "text": [
      "Country\n",
      "Australia                137077.270\n",
      "Austria                   10154.320\n",
      "Bahrain                     548.400\n",
      "Belgium                   40910.960\n",
      "Brazil                     1143.600\n",
      "Canada                     3666.380\n",
      "Channel Islands           20086.290\n",
      "Cyprus                    12946.290\n",
      "Czech Republic              707.720\n",
      "Denmark                   18768.140\n",
      "EIRE                     263276.820\n",
      "European Community         1291.750\n",
      "Finland                   22326.740\n",
      "France                   197403.900\n",
      "Germany                  221698.210\n",
      "Greece                     4710.520\n",
      "Hong Kong                 10117.040\n",
      "Iceland                    4310.000\n",
      "Israel                     7907.820\n",
      "Italy                     16890.510\n",
      "Japan                     35340.620\n",
      "Lebanon                    1693.880\n",
      "Lithuania                  1661.060\n",
      "Malta                      2505.470\n",
      "Netherlands              284661.540\n",
      "Norway                    35163.460\n",
      "Poland                     7213.140\n",
      "Portugal                  29367.020\n",
      "RSA                        1002.310\n",
      "Saudi Arabia                131.170\n",
      "Singapore                  9120.390\n",
      "Spain                     54774.580\n",
      "Sweden                    36595.910\n",
      "Switzerland               56385.350\n",
      "USA                        1730.920\n",
      "United Arab Emirates       1902.280\n",
      "United Kingdom          8187806.364\n",
      "Unspecified                4749.790\n",
      "dtype: float64\n"
     ]
    },
    {
     "name": "stderr",
     "output_type": "stream",
     "text": [
      "/tmp/ipython-input-21-2686263442.py:4: DeprecationWarning: DataFrameGroupBy.apply operated on the grouping columns. This behavior is deprecated, and in a future version of pandas the grouping columns will be excluded from the operation. Either pass `include_groups=False` to exclude the groupings or explicitly select the grouping columns after groupby to silence this warning.\n",
      "  revenue_by_country = df.groupby('Country').apply(total_revenue)\n"
     ]
    }
   ],
   "source": [
    "def total_revenue(group):\n",
    "  return (group['Quantity'] * group['UnitPrice']).sum()\n",
    "\n",
    "revenue_by_country = df.groupby('Country').apply(total_revenue)\n",
    "print(revenue_by_country)"
   ]
  },
  {
   "cell_type": "code",
   "execution_count": null,
   "metadata": {
    "id": "K5VmrdwAPwAQ"
   },
   "outputs": [],
   "source": []
  }
 ],
 "metadata": {
  "colab": {
   "authorship_tag": "ABX9TyMv2OsBQGrYZemOmpb+ats0",
   "mount_file_id": "1Uci8q0YRfpUdYEHMm3-QqOrny0OZpsd4",
   "provenance": []
  },
  "kernelspec": {
   "display_name": "Python 3",
   "name": "python3"
  },
  "language_info": {
   "name": "python"
  }
 },
 "nbformat": 4,
 "nbformat_minor": 0
}
