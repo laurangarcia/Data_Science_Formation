{
 "cells": [
  {
   "cell_type": "markdown",
   "id": "e8d51337",
   "metadata": {},
   "source": [
    "This dataset captures the pulse of viral social media trends across Facebook, Instagram and Twitter. It provides insights into the most popular hashtags, content types, and user engagement levels, offering a comprehensive view of how trends unfold across platforms. With regional data and influencer-driven content, this dataset is perfect for:\n",
    "\n",
    "Trend analysis 🔍\n",
    "Sentiment modeling 💭\n",
    "Understanding influencer marketing 📈\n",
    "Dive in to explore what makes content go viral, the behaviors that drive engagement, and how trends evolve on a global scale! 🌍"
   ]
  },
  {
   "cell_type": "code",
   "execution_count": 2,
   "id": "bf871724",
   "metadata": {},
   "outputs": [
    {
     "name": "stdout",
     "output_type": "stream",
     "text": [
      "<class 'pandas.core.frame.DataFrame'>\n",
      "RangeIndex: 100 entries, 0 to 99\n",
      "Data columns (total 9 columns):\n",
      " #   Column           Non-Null Count  Dtype \n",
      "---  ------           --------------  ----- \n",
      " 0   post_id          100 non-null    int64 \n",
      " 1   platform         100 non-null    object\n",
      " 2   post_type        100 non-null    object\n",
      " 3   post_time        100 non-null    object\n",
      " 4   likes            100 non-null    int64 \n",
      " 5   comments         100 non-null    int64 \n",
      " 6   shares           100 non-null    int64 \n",
      " 7   post_day         100 non-null    object\n",
      " 8   sentiment_score  100 non-null    object\n",
      "dtypes: int64(4), object(5)\n",
      "memory usage: 7.2+ KB\n",
      "None\n"
     ]
    }
   ],
   "source": [
    "import pandas as pd\n",
    "\n",
    "#Cargar el dataset\n",
    "df = pd.read_csv(\"social_media_engagement1.csv\")\n",
    "\n",
    "#Conocer el dataset\n",
    "print(df.info())"
   ]
  },
  {
   "cell_type": "markdown",
   "id": "b0a32ac6",
   "metadata": {},
   "source": [
    "1. ¿Cuál es el propósito principal del análisis?\n",
    "\n",
    "    ¿Qué preguntas específicas quieres responder?:\n",
    "\n",
    "    * ¿Qué tipos de contenido (video, imagen, texto, carrusel) generan más interacción en cada red social?\n",
    "    * ¿Qué plataformas generan mayor engagement promedio?\n",
    "    \n",
    "2.  Contexto del Negocio\n",
    "    * ¿Cómo varía el engagement (likes, shares, comments) entre Facebook, Instagram y Twitter?\n",
    "    * ¿Qué tipos de contenido son más virales por plataforma?\n",
    "    * ¿Existen diferencias notables en el uso de hashtags por red social?\n",
    "\n",
    "3. Alcance del Análisis:\n",
    "    ¿Qué aspectos están dentro y fuera del alcance del análisis? Análisis Exploratorio de Tendencias y Viralidad, Comparación entre Plataformas Sociales \n",
    "    ¿Qué limitaciones deben tenerse en cuenta?  Segmentación por Región y Temporalidady Segmentación por Región y Temporalidad\n",
    "\n",
    "4. Resultados Esperados\n",
    "    ¿Qué tipo de resultados se espera del análisis?\n",
    "    ¿Cómo se utilizarán estos resultados?\n",
    "  * Plataformas con mayor engagement promedio y sus características comunes.\n",
    " * Correlaciones entre variables (likes, shares, comentarios, tipo de contenido).\n"
   ]
  },
  {
   "cell_type": "code",
   "execution_count": 3,
   "id": "52821748",
   "metadata": {},
   "outputs": [
    {
     "name": "stdout",
     "output_type": "stream",
     "text": [
      "          post_id        likes   comments      shares\n",
      "count  100.000000   100.000000  100.00000  100.000000\n",
      "mean    50.500000  2381.810000  202.66000  415.650000\n",
      "std     29.011492  1632.573284  138.84067  283.877601\n",
      "min      1.000000    15.000000   10.00000   16.000000\n",
      "25%     25.750000   895.750000   89.75000  183.000000\n",
      "50%     50.500000  2220.000000  171.00000  356.500000\n",
      "75%     75.250000  3593.250000  299.00000  689.500000\n",
      "max    100.000000  5000.000000  500.00000  993.000000\n"
     ]
    }
   ],
   "source": [
    "print(df.describe())"
   ]
  },
  {
   "cell_type": "markdown",
   "id": "a2d3ab31",
   "metadata": {},
   "source": [
    "## Exploración de datos"
   ]
  },
  {
   "cell_type": "code",
   "execution_count": 4,
   "id": "1d855e16",
   "metadata": {},
   "outputs": [
    {
     "data": {
      "text/plain": [
       "post_id            0\n",
       "platform           0\n",
       "post_type          0\n",
       "post_time          0\n",
       "likes              0\n",
       "comments           0\n",
       "shares             0\n",
       "post_day           0\n",
       "sentiment_score    0\n",
       "dtype: int64"
      ]
     },
     "execution_count": 4,
     "metadata": {},
     "output_type": "execute_result"
    }
   ],
   "source": [
    "#1. datos faltantes\n",
    "\n",
    "df.isnull().sum()"
   ]
  },
  {
   "cell_type": "code",
   "execution_count": 5,
   "id": "dd27186b",
   "metadata": {},
   "outputs": [
    {
     "data": {
      "text/plain": [
       "np.int64(0)"
      ]
     },
     "execution_count": 5,
     "metadata": {},
     "output_type": "execute_result"
    }
   ],
   "source": [
    "#2. ¿Hay duplicados?\n",
    "df.duplicated().sum()"
   ]
  },
  {
   "cell_type": "code",
   "execution_count": 6,
   "id": "77b47030",
   "metadata": {},
   "outputs": [
    {
     "name": "stdout",
     "output_type": "stream",
     "text": [
      "Columna:  post_id\n",
      "Número de valores únicos: 100\n",
      "Valores únicos: [ 1  2  3  4  5  6  7  8  9 10]\n",
      "--------------------------------------------------\n",
      "Columna:  platform\n",
      "Número de valores únicos: 3\n",
      "Valores únicos: ['Facebook' 'Instagram' 'Twitter']\n",
      "--------------------------------------------------\n",
      "Columna:  post_type\n",
      "Número de valores únicos: 5\n",
      "Valores únicos: ['image' 'carousel' 'poll' 'video' 'text']\n",
      "--------------------------------------------------\n",
      "Columna:  post_time\n",
      "Número de valores únicos: 99\n",
      "Valores únicos: ['8/17/2023 14:45' '5/14/2023 0:45' '2/21/2023 16:15' '11/16/2023 0:45'\n",
      " '5/23/2023 0:30' '5/5/2023 20:00' '2/26/2023 11:45' '10/28/2023 19:30'\n",
      " '5/2/2023 6:15' '5/11/2023 11:00']\n",
      "--------------------------------------------------\n",
      "Columna:  likes\n",
      "Número de valores únicos: 93\n",
      "Valores únicos: [2121 3660 4955 1183 3499  256 1982 1274  317 1878]\n",
      "--------------------------------------------------\n",
      "Columna:  comments\n",
      "Número de valores únicos: 85\n",
      "Valores únicos: [474 432 408  90 247 186  30  45 249 225]\n",
      "--------------------------------------------------\n",
      "Columna:  shares\n",
      "Número de valores únicos: 96\n",
      "Valores únicos: [628 694 688 187 286 211 906 216 221 438]\n",
      "--------------------------------------------------\n",
      "Columna:  post_day\n",
      "Número de valores únicos: 7\n",
      "Valores únicos: ['Thursday' 'Sunday' 'Tuesday' 'Friday' 'Saturday' 'Monday' 'Wednesday']\n",
      "--------------------------------------------------\n",
      "Columna:  sentiment_score\n",
      "Número de valores únicos: 3\n",
      "Valores únicos: ['positive' 'neutral' 'negative']\n",
      "--------------------------------------------------\n"
     ]
    }
   ],
   "source": [
    "#3. Obtener valores unicos \n",
    "unique_values = {col: df[col].unique() for col in df.columns}\n",
    "\n",
    "for col, values in unique_values.items():\n",
    "    print(f'Columna:  {col}')\n",
    "    print(f'Número de valores únicos: {len(values)}')\n",
    "    print(f'Valores únicos: {values[:10]}')\n",
    "    print('-'*50)"
   ]
  },
  {
   "cell_type": "markdown",
   "id": "17c228a3",
   "metadata": {},
   "source": [
    "## Limpieza"
   ]
  },
  {
   "cell_type": "code",
   "execution_count": 7,
   "id": "357719c2",
   "metadata": {},
   "outputs": [],
   "source": [
    "#si tuviese filas duplicadas, las eliminaria, para ello creamos un nuevo dataframe\n",
    "\n",
    "#data_cleaned = df.drop_duplicates()\n",
    "#data_cleaned = data_cleaned.dropna(subset=['Columna_que_deberia_borrar']) #Le puedo especificar la columna\n",
    "\n",
    "#Si quisiese realizar una nueva columna\n",
    "#data_cleaned['Nueva_columna'] = data_cleaned['comments'] * data_cleaned['shares']\n",
    "\n",
    "df['Total_interaccion'] = df['comments'] + df['shares'] + df['likes']\n"
   ]
  },
  {
   "cell_type": "code",
   "execution_count": 8,
   "id": "17121362",
   "metadata": {},
   "outputs": [
    {
     "data": {
      "text/html": [
       "<div>\n",
       "<style scoped>\n",
       "    .dataframe tbody tr th:only-of-type {\n",
       "        vertical-align: middle;\n",
       "    }\n",
       "\n",
       "    .dataframe tbody tr th {\n",
       "        vertical-align: top;\n",
       "    }\n",
       "\n",
       "    .dataframe thead th {\n",
       "        text-align: right;\n",
       "    }\n",
       "</style>\n",
       "<table border=\"1\" class=\"dataframe\">\n",
       "  <thead>\n",
       "    <tr style=\"text-align: right;\">\n",
       "      <th></th>\n",
       "      <th>post_id</th>\n",
       "      <th>platform</th>\n",
       "      <th>post_type</th>\n",
       "      <th>post_time</th>\n",
       "      <th>likes</th>\n",
       "      <th>comments</th>\n",
       "      <th>shares</th>\n",
       "      <th>post_day</th>\n",
       "      <th>sentiment_score</th>\n",
       "      <th>Total_interaccion</th>\n",
       "    </tr>\n",
       "  </thead>\n",
       "  <tbody>\n",
       "    <tr>\n",
       "      <th>0</th>\n",
       "      <td>1</td>\n",
       "      <td>Facebook</td>\n",
       "      <td>image</td>\n",
       "      <td>8/17/2023 14:45</td>\n",
       "      <td>2121</td>\n",
       "      <td>474</td>\n",
       "      <td>628</td>\n",
       "      <td>Thursday</td>\n",
       "      <td>positive</td>\n",
       "      <td>3223</td>\n",
       "    </tr>\n",
       "    <tr>\n",
       "      <th>1</th>\n",
       "      <td>2</td>\n",
       "      <td>Facebook</td>\n",
       "      <td>carousel</td>\n",
       "      <td>5/14/2023 0:45</td>\n",
       "      <td>3660</td>\n",
       "      <td>432</td>\n",
       "      <td>694</td>\n",
       "      <td>Sunday</td>\n",
       "      <td>neutral</td>\n",
       "      <td>4786</td>\n",
       "    </tr>\n",
       "    <tr>\n",
       "      <th>2</th>\n",
       "      <td>3</td>\n",
       "      <td>Instagram</td>\n",
       "      <td>poll</td>\n",
       "      <td>2/21/2023 16:15</td>\n",
       "      <td>4955</td>\n",
       "      <td>408</td>\n",
       "      <td>688</td>\n",
       "      <td>Tuesday</td>\n",
       "      <td>negative</td>\n",
       "      <td>6051</td>\n",
       "    </tr>\n",
       "    <tr>\n",
       "      <th>3</th>\n",
       "      <td>4</td>\n",
       "      <td>Twitter</td>\n",
       "      <td>image</td>\n",
       "      <td>11/16/2023 0:45</td>\n",
       "      <td>1183</td>\n",
       "      <td>90</td>\n",
       "      <td>187</td>\n",
       "      <td>Thursday</td>\n",
       "      <td>negative</td>\n",
       "      <td>1460</td>\n",
       "    </tr>\n",
       "    <tr>\n",
       "      <th>4</th>\n",
       "      <td>5</td>\n",
       "      <td>Twitter</td>\n",
       "      <td>video</td>\n",
       "      <td>5/23/2023 0:30</td>\n",
       "      <td>3499</td>\n",
       "      <td>247</td>\n",
       "      <td>286</td>\n",
       "      <td>Tuesday</td>\n",
       "      <td>positive</td>\n",
       "      <td>4032</td>\n",
       "    </tr>\n",
       "  </tbody>\n",
       "</table>\n",
       "</div>"
      ],
      "text/plain": [
       "   post_id   platform post_type        post_time  likes  comments  shares  \\\n",
       "0        1   Facebook     image  8/17/2023 14:45   2121       474     628   \n",
       "1        2   Facebook  carousel   5/14/2023 0:45   3660       432     694   \n",
       "2        3  Instagram      poll  2/21/2023 16:15   4955       408     688   \n",
       "3        4    Twitter     image  11/16/2023 0:45   1183        90     187   \n",
       "4        5    Twitter     video   5/23/2023 0:30   3499       247     286   \n",
       "\n",
       "   post_day sentiment_score  Total_interaccion  \n",
       "0  Thursday        positive               3223  \n",
       "1    Sunday         neutral               4786  \n",
       "2   Tuesday        negative               6051  \n",
       "3  Thursday        negative               1460  \n",
       "4   Tuesday        positive               4032  "
      ]
     },
     "execution_count": 8,
     "metadata": {},
     "output_type": "execute_result"
    }
   ],
   "source": [
    "df.head()"
   ]
  },
  {
   "cell_type": "code",
   "execution_count": 9,
   "id": "8568d213",
   "metadata": {},
   "outputs": [
    {
     "name": "stdout",
     "output_type": "stream",
     "text": [
      "<class 'pandas.core.frame.DataFrame'>\n",
      "RangeIndex: 100 entries, 0 to 99\n",
      "Data columns (total 10 columns):\n",
      " #   Column             Non-Null Count  Dtype         \n",
      "---  ------             --------------  -----         \n",
      " 0   post_id            100 non-null    int64         \n",
      " 1   platform           100 non-null    object        \n",
      " 2   post_type          100 non-null    object        \n",
      " 3   post_time          100 non-null    datetime64[ns]\n",
      " 4   likes              100 non-null    int64         \n",
      " 5   comments           100 non-null    int64         \n",
      " 6   shares             100 non-null    int64         \n",
      " 7   post_day           100 non-null    category      \n",
      " 8   sentiment_score    100 non-null    object        \n",
      " 9   Total_interaccion  100 non-null    int64         \n",
      "dtypes: category(1), datetime64[ns](1), int64(5), object(3)\n",
      "memory usage: 7.6+ KB\n"
     ]
    }
   ],
   "source": [
    "#Conversión de los tipos de datos\n",
    "df['post_time'] = pd.to_datetime(df['post_time'])\n",
    "df['post_day'] = df['post_day'].astype('category') \n",
    "\n",
    "df.info()\n"
   ]
  },
  {
   "cell_type": "code",
   "execution_count": 10,
   "id": "4850df46",
   "metadata": {},
   "outputs": [
    {
     "data": {
      "text/html": [
       "<div>\n",
       "<style scoped>\n",
       "    .dataframe tbody tr th:only-of-type {\n",
       "        vertical-align: middle;\n",
       "    }\n",
       "\n",
       "    .dataframe tbody tr th {\n",
       "        vertical-align: top;\n",
       "    }\n",
       "\n",
       "    .dataframe thead th {\n",
       "        text-align: right;\n",
       "    }\n",
       "</style>\n",
       "<table border=\"1\" class=\"dataframe\">\n",
       "  <thead>\n",
       "    <tr style=\"text-align: right;\">\n",
       "      <th></th>\n",
       "      <th>post_id</th>\n",
       "      <th>platform</th>\n",
       "      <th>post_type</th>\n",
       "      <th>post_time</th>\n",
       "      <th>likes</th>\n",
       "      <th>comments</th>\n",
       "      <th>shares</th>\n",
       "      <th>post_day</th>\n",
       "      <th>sentiment_score</th>\n",
       "      <th>Total_interaccion</th>\n",
       "      <th>Year</th>\n",
       "      <th>Month</th>\n",
       "    </tr>\n",
       "  </thead>\n",
       "  <tbody>\n",
       "    <tr>\n",
       "      <th>0</th>\n",
       "      <td>1</td>\n",
       "      <td>Facebook</td>\n",
       "      <td>image</td>\n",
       "      <td>2023-08-17 14:45:00</td>\n",
       "      <td>2121</td>\n",
       "      <td>474</td>\n",
       "      <td>628</td>\n",
       "      <td>Thursday</td>\n",
       "      <td>positive</td>\n",
       "      <td>3223</td>\n",
       "      <td>2023</td>\n",
       "      <td>8</td>\n",
       "    </tr>\n",
       "    <tr>\n",
       "      <th>1</th>\n",
       "      <td>2</td>\n",
       "      <td>Facebook</td>\n",
       "      <td>carousel</td>\n",
       "      <td>2023-05-14 00:45:00</td>\n",
       "      <td>3660</td>\n",
       "      <td>432</td>\n",
       "      <td>694</td>\n",
       "      <td>Sunday</td>\n",
       "      <td>neutral</td>\n",
       "      <td>4786</td>\n",
       "      <td>2023</td>\n",
       "      <td>5</td>\n",
       "    </tr>\n",
       "    <tr>\n",
       "      <th>2</th>\n",
       "      <td>3</td>\n",
       "      <td>Instagram</td>\n",
       "      <td>poll</td>\n",
       "      <td>2023-02-21 16:15:00</td>\n",
       "      <td>4955</td>\n",
       "      <td>408</td>\n",
       "      <td>688</td>\n",
       "      <td>Tuesday</td>\n",
       "      <td>negative</td>\n",
       "      <td>6051</td>\n",
       "      <td>2023</td>\n",
       "      <td>2</td>\n",
       "    </tr>\n",
       "    <tr>\n",
       "      <th>3</th>\n",
       "      <td>4</td>\n",
       "      <td>Twitter</td>\n",
       "      <td>image</td>\n",
       "      <td>2023-11-16 00:45:00</td>\n",
       "      <td>1183</td>\n",
       "      <td>90</td>\n",
       "      <td>187</td>\n",
       "      <td>Thursday</td>\n",
       "      <td>negative</td>\n",
       "      <td>1460</td>\n",
       "      <td>2023</td>\n",
       "      <td>11</td>\n",
       "    </tr>\n",
       "    <tr>\n",
       "      <th>4</th>\n",
       "      <td>5</td>\n",
       "      <td>Twitter</td>\n",
       "      <td>video</td>\n",
       "      <td>2023-05-23 00:30:00</td>\n",
       "      <td>3499</td>\n",
       "      <td>247</td>\n",
       "      <td>286</td>\n",
       "      <td>Tuesday</td>\n",
       "      <td>positive</td>\n",
       "      <td>4032</td>\n",
       "      <td>2023</td>\n",
       "      <td>5</td>\n",
       "    </tr>\n",
       "  </tbody>\n",
       "</table>\n",
       "</div>"
      ],
      "text/plain": [
       "   post_id   platform post_type           post_time  likes  comments  shares  \\\n",
       "0        1   Facebook     image 2023-08-17 14:45:00   2121       474     628   \n",
       "1        2   Facebook  carousel 2023-05-14 00:45:00   3660       432     694   \n",
       "2        3  Instagram      poll 2023-02-21 16:15:00   4955       408     688   \n",
       "3        4    Twitter     image 2023-11-16 00:45:00   1183        90     187   \n",
       "4        5    Twitter     video 2023-05-23 00:30:00   3499       247     286   \n",
       "\n",
       "   post_day sentiment_score  Total_interaccion  Year  Month  \n",
       "0  Thursday        positive               3223  2023      8  \n",
       "1    Sunday         neutral               4786  2023      5  \n",
       "2   Tuesday        negative               6051  2023      2  \n",
       "3  Thursday        negative               1460  2023     11  \n",
       "4   Tuesday        positive               4032  2023      5  "
      ]
     },
     "execution_count": 10,
     "metadata": {},
     "output_type": "execute_result"
    }
   ],
   "source": [
    "df['Year'] = df['post_time'].dt.year\n",
    "df['Month'] = df['post_time'].dt.month\n",
    "\n",
    "df.head()"
   ]
  },
  {
   "cell_type": "code",
   "execution_count": 11,
   "id": "9005b107",
   "metadata": {},
   "outputs": [
    {
     "data": {
      "text/plain": [
       "Year\n",
       "2023    300012\n",
       "Name: Total_interaccion, dtype: int64"
      ]
     },
     "execution_count": 11,
     "metadata": {},
     "output_type": "execute_result"
    }
   ],
   "source": [
    "interaction_by_year = df.groupby('Year')['Total_interaccion'].sum()\n",
    "interaction_by_year"
   ]
  },
  {
   "cell_type": "code",
   "execution_count": 12,
   "id": "67803db8",
   "metadata": {},
   "outputs": [],
   "source": [
    "df['Semester'] = df['Month'].apply(lambda x: 1 if x <= 6 else 2)"
   ]
  },
  {
   "cell_type": "code",
   "execution_count": 13,
   "id": "b3c6de78",
   "metadata": {},
   "outputs": [
    {
     "data": {
      "text/plain": [
       "Year  Semester\n",
       "2023  1           161396\n",
       "      2           138616\n",
       "Name: Total_interaccion, dtype: int64"
      ]
     },
     "execution_count": 13,
     "metadata": {},
     "output_type": "execute_result"
    }
   ],
   "source": [
    "interaction_by_semester = df.groupby(['Year','Semester'])['Total_interaccion'].sum()\n",
    "interaction_by_semester"
   ]
  },
  {
   "cell_type": "code",
   "execution_count": 14,
   "id": "71551bff",
   "metadata": {},
   "outputs": [
    {
     "data": {
      "text/plain": [
       "Year  trimestre\n",
       "2023  1            82736\n",
       "      2            78660\n",
       "      3            71004\n",
       "      4            67612\n",
       "Name: Total_interaccion, dtype: int64"
      ]
     },
     "execution_count": 14,
     "metadata": {},
     "output_type": "execute_result"
    }
   ],
   "source": [
    "def trimestre(month):\n",
    "    if month <= 3:\n",
    "        return 1\n",
    "    elif month <= 6:\n",
    "        return 2\n",
    "    elif month <= 9:\n",
    "        return 3\n",
    "    else:\n",
    "        return 4\n",
    "\n",
    "df['trimestre'] = df['Month'].apply(trimestre)\n",
    "interaction_by_trimester = df.groupby(['Year','trimestre'])['Total_interaccion'].sum()\n",
    "interaction_by_trimester\n"
   ]
  },
  {
   "cell_type": "code",
   "execution_count": 15,
   "id": "7be69e0c",
   "metadata": {},
   "outputs": [
    {
     "data": {
      "text/plain": [
       "Month\n",
       "1     36625\n",
       "2     24110\n",
       "3     22001\n",
       "4     21109\n",
       "5     44559\n",
       "6     12992\n",
       "7     42177\n",
       "8     11057\n",
       "9     17770\n",
       "10    12806\n",
       "11    22273\n",
       "12    32533\n",
       "Name: Total_interaccion, dtype: int64"
      ]
     },
     "execution_count": 15,
     "metadata": {},
     "output_type": "execute_result"
    }
   ],
   "source": [
    "\n",
    "#interaccion mensual \n",
    "\n",
    "df['Month'] = df['post_time'].dt.month\n",
    "\n",
    "\n",
    "interaction_by_month = df.groupby(['Month'])['Total_interaccion'].sum()\n",
    "interaction_by_month"
   ]
  },
  {
   "cell_type": "code",
   "execution_count": 16,
   "id": "6ef681e2",
   "metadata": {},
   "outputs": [
    {
     "data": {
      "text/plain": [
       "Mes_nombre\n",
       "enero         36625\n",
       "febrero       24110\n",
       "marzo         22001\n",
       "abril         21109\n",
       "mayo          44559\n",
       "junio         12992\n",
       "julio         42177\n",
       "agosto        11057\n",
       "septiembre    17770\n",
       "octubre       12806\n",
       "noviembre     22273\n",
       "diciembre     32533\n",
       "Name: Total_interaccion, dtype: int64"
      ]
     },
     "execution_count": 16,
     "metadata": {},
     "output_type": "execute_result"
    }
   ],
   "source": [
    "meses = ['enero', 'febrero', 'marzo', 'abril', 'mayo', 'junio',\n",
    "         'julio', 'agosto', 'septiembre', 'octubre', 'noviembre', 'diciembre']\n",
    "\n",
    "df['Mes_nombre'] = df['Month'].apply(lambda x: meses[x-1])\n",
    "interaction_by_mes_nombre = df.groupby('Mes_nombre')['Total_interaccion'].sum()\n",
    "interaction_by_mes_nombre = interaction_by_mes_nombre.reindex(meses) #para organizarlos\n",
    "interaction_by_mes_nombre"
   ]
  },
  {
   "cell_type": "code",
   "execution_count": 17,
   "id": "fc7f6169",
   "metadata": {},
   "outputs": [
    {
     "name": "stdout",
     "output_type": "stream",
     "text": [
      "Sentimiento positivo: 46.00%\n",
      "Sentimiento neutral: 27.00%\n",
      "Sentimiento negativo: 27.00%\n"
     ]
    }
   ],
   "source": [
    "indice_positivo_satisfaccion = df[df['sentiment_score']== 'positive'].shape[0]\n",
    "indice_neutral_satisfaccion = df[df['sentiment_score']== 'neutral'].shape[0]\n",
    "indice_negative_satisfaccion = df[df['sentiment_score']== 'negative'].shape[0]\n",
    "\n",
    "porcentaje_positivo = (indice_positivo_satisfaccion / len(df)) * 100\n",
    "porcentaje_neutral = (indice_neutral_satisfaccion / len(df)) * 100\n",
    "porcentaje_negativo = (indice_negative_satisfaccion / len(df)) * 100\n",
    "\n",
    "\n",
    "print(f\"Sentimiento positivo: {porcentaje_positivo:.2f}%\")\n",
    "print(f\"Sentimiento neutral: {porcentaje_neutral:.2f}%\")\n",
    "print(f\"Sentimiento negativo: {porcentaje_negativo:.2f}%\")"
   ]
  },
  {
   "cell_type": "markdown",
   "id": "256934f5",
   "metadata": {},
   "source": [
    "# Representación de los datos"
   ]
  },
  {
   "cell_type": "code",
   "execution_count": 18,
   "id": "5ad9b233",
   "metadata": {},
   "outputs": [
    {
     "data": {
      "image/png": "[encoded data removed]",
      "text/plain": [
       "<Figure size 800x800 with 1 Axes>"
      ]
     },
     "metadata": {},
     "output_type": "display_data"
    }
   ],
   "source": [
    "import matplotlib.pyplot as plt\n",
    "\n",
    "labels = ['Positivo', 'Neutro', 'Negativo']\n",
    "sizes = [porcentaje_positivo, porcentaje_neutral, porcentaje_negativo]\n",
    "colors = ['lightcoral', 'lightgreen', 'lightblue']\n",
    "\n",
    "plt.figure(figsize = (8,8))\n",
    "plt.pie(sizes, labels = labels, colors = colors, startangle =140)\n",
    "\n",
    "plt.title(\"Porcentaje de satisfacción respecto al contenido\")\n",
    "plt.show()"
   ]
  },
  {
   "cell_type": "code",
   "execution_count": 25,
   "id": "3e7fd1cb",
   "metadata": {},
   "outputs": [
    {
     "data": {
      "text/plain": [
       "<function matplotlib.pyplot.show(close=None, block=None)>"
      ]
     },
     "execution_count": 25,
     "metadata": {},
     "output_type": "execute_result"
    },
    {
     "data": {
      "image/png": "[encoded data removed]",
      "text/plain": [
       "<Figure size 1200x600 with 1 Axes>"
      ]
     },
     "metadata": {},
     "output_type": "display_data"
    }
   ],
   "source": [
    "# Graficar la distribucion de interaccion por mes y año \n",
    "plt.figure(figsize=(12,6))\n",
    "df.groupby(['Year', 'Month'])['Total_interaccion'].sum().plot(kind = 'bar')\n",
    "plt.title('Distribución de interacción por mes y año')\n",
    "plt.xlabel('Año, Mes')\n",
    "plt.ylabel('Interacción total')\n",
    "plt.show"
   ]
  },
  {
   "cell_type": "code",
   "execution_count": 23,
   "id": "52b3981c",
   "metadata": {},
   "outputs": [],
   "source": [
    "top_apps = df.groupby('platform')['Total_interaccion'].sum().sort_values(ascending=False).head(3)\n",
    "top_apps = top_apps.reset_index()\n",
    "top_apps = pd.merge(top_apps, df[['platform', 'post_type']].drop_duplicates(), on='platform', how='left')"
   ]
  },
  {
   "cell_type": "code",
   "execution_count": 28,
   "id": "388e1ad2",
   "metadata": {},
   "outputs": [
    {
     "data": {
      "image/png": "[encoded data removed]",
      "text/plain": [
       "<Figure size 1200x800 with 1 Axes>"
      ]
     },
     "metadata": {},
     "output_type": "display_data"
    }
   ],
   "source": [
    "plt.figure(figsize = (12,8))\n",
    "plt.barh(top_apps['platform'],top_apps['Total_interaccion'])\n",
    "plt.title('Interacción total de cada app')\n",
    "plt.xlabel('Interaccion')\n",
    "plt.ylabel('Apps')\n",
    "plt.gca().invert_yaxis()\n",
    "\n",
    "plt.show()"
   ]
  },
  {
   "cell_type": "code",
   "execution_count": 29,
   "id": "3f077a46",
   "metadata": {},
   "outputs": [
    {
     "data": {
      "text/plain": [
       "<Axes: xlabel='post_type', ylabel='Total_interaccion'>"
      ]
     },
     "execution_count": 29,
     "metadata": {},
     "output_type": "execute_result"
    },
    {
     "data": {
      "image/png": "[encoded data removed]",
      "text/plain": [
       "<Figure size 640x480 with 1 Axes>"
      ]
     },
     "metadata": {},
     "output_type": "display_data"
    }
   ],
   "source": [
    "import seaborn as sns\n",
    "\n",
    "sns.scatterplot(data = df, x = 'post_type', y = 'Total_interaccion')"
   ]
  },
  {
   "cell_type": "code",
   "execution_count": 30,
   "id": "c652a2e3",
   "metadata": {},
   "outputs": [
    {
     "data": {
      "text/plain": [
       "<seaborn.axisgrid.JointGrid at 0x217fec1be00>"
      ]
     },
     "execution_count": 30,
     "metadata": {},
     "output_type": "execute_result"
    },
    {
     "data": {
      "image/png": "[encoded data removed]",
      "text/plain": [
       "<Figure size 600x600 with 3 Axes>"
      ]
     },
     "metadata": {},
     "output_type": "display_data"
    }
   ],
   "source": [
    "sns.jointplot(data = df, x = 'comments', y = 'likes', kind = 'scatter')"
   ]
  },
  {
   "cell_type": "code",
   "execution_count": 31,
   "id": "0fbbef7d",
   "metadata": {},
   "outputs": [
    {
     "data": {
      "text/plain": [
       "<Axes: xlabel='post_type', ylabel='Total_interaccion'>"
      ]
     },
     "execution_count": 31,
     "metadata": {},
     "output_type": "execute_result"
    },
    {
     "data": {
      "image/png": "[encoded data removed]",
      "text/plain": [
       "<Figure size 640x480 with 1 Axes>"
      ]
     },
     "metadata": {},
     "output_type": "display_data"
    }
   ],
   "source": [
    "#Box-plot\n",
    "sns.boxplot(data=df, x='post_type', y='Total_interaccion')"
   ]
  },
  {
   "cell_type": "code",
   "execution_count": null,
   "id": "63dca160",
   "metadata": {},
   "outputs": [],
   "source": []
  }
 ],
 "metadata": {
  "kernelspec": {
   "display_name": "prob.venv (3.13.5)",
   "language": "python",
   "name": "python3"
  },
  "language_info": {
   "codemirror_mode": {
    "name": "ipython",
    "version": 3
   },
   "file_extension": ".py",
   "mimetype": "text/x-python",
   "name": "python",
   "nbconvert_exporter": "python",
   "pygments_lexer": "ipython3",
   "version": "3.13.5"
  }
 },
 "nbformat": 4,
 "nbformat_minor": 5
}
