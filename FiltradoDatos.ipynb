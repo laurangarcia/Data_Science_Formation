{
  "cells": [
    {
      "cell_type": "markdown",
      "metadata": {
        "id": "0yY59eBtiSsA"
      },
      "source": [
        "## Filtrado de Datos"
      ]
    },
    {
      "cell_type": "markdown",
      "metadata": {
        "id": "uUrTR5B3iyJ8"
      },
      "source": [
        "Nos permite concentrarnos en subconjuntos relevantes basándose en condiciones específicas. Imagina que puedes centrarte únicamente en las ventas de un país determinado, evaluar productos que superen un umbral de ventas, o analizar transacciones dentro de un período de tiempo concreto. Todo esto es posible con el filtrado de datos en Pandas, una poderosa librería de Python."
      ]
    },
    {
      "cell_type": "code",
      "execution_count": 3,
      "metadata": {
        "colab": {
          "base_uri": "https://localhost:8080/"
        },
        "id": "F41X_88diJTK",
        "outputId": "064d62dd-851a-46c6-a7df-ce6b1b2548c7"
      },
      "outputs": [
        {
          "name": "stdout",
          "output_type": "stream",
          "text": [
            "Mounted at /content/drive\n",
            "  InvoiceNo StockCode                          Description  Quantity  \\\n",
            "0    536365    85123A   WHITE HANGING HEART T-LIGHT HOLDER         6   \n",
            "1    536365     71053                  WHITE METAL LANTERN         6   \n",
            "2    536365    84406B       CREAM CUPID HEARTS COAT HANGER         8   \n",
            "3    536365    84029G  KNITTED UNION FLAG HOT WATER BOTTLE         6   \n",
            "4    536365    84029E       RED WOOLLY HOTTIE WHITE HEART.         6   \n",
            "\n",
            "           InvoiceDate  UnitPrice  CustomerID         Country  \n",
            "0  2010-12-01 08:26:00       2.55     17850.0  United Kingdom  \n",
            "1  2010-12-01 08:26:00       3.39     17850.0  United Kingdom  \n",
            "2  2010-12-01 08:26:00       2.75     17850.0  United Kingdom  \n",
            "3  2010-12-01 08:26:00       3.39     17850.0  United Kingdom  \n",
            "4  2010-12-01 08:26:00       3.39     17850.0  United Kingdom  \n"
          ]
        }
      ],
      "source": [
        "from google.colab import drive\n",
        "\n",
        "drive.mount('/content/drive')\n",
        "file_path = \"/content/drive/MyDrive/Colab Notebooks/online_retail.csv\"\n",
        "\n",
        "sales_data = pd.read_csv(file_path)\n",
        "print(sales_data.head())"
      ]
    },
    {
      "cell_type": "code",
      "execution_count": 4,
      "metadata": {
        "colab": {
          "base_uri": "https://localhost:8080/"
        },
        "id": "bq4wfokxiU_t",
        "outputId": "7a15fa2b-5d4a-49ed-edaa-a0d67d698b4a"
      },
      "outputs": [
        {
          "name": "stdout",
          "output_type": "stream",
          "text": [
            "       InvoiceNo StockCode                          Description  Quantity  \\\n",
            "0         536365    85123A   WHITE HANGING HEART T-LIGHT HOLDER         6   \n",
            "1         536365     71053                  WHITE METAL LANTERN         6   \n",
            "2         536365    84406B       CREAM CUPID HEARTS COAT HANGER         8   \n",
            "3         536365    84029G  KNITTED UNION FLAG HOT WATER BOTTLE         6   \n",
            "4         536365    84029E       RED WOOLLY HOTTIE WHITE HEART.         6   \n",
            "...          ...       ...                                  ...       ...   \n",
            "541904    581587     22613          PACK OF 20 SPACEBOY NAPKINS        12   \n",
            "541905    581587     22899         CHILDREN'S APRON DOLLY GIRL          6   \n",
            "541906    581587     23254        CHILDRENS CUTLERY DOLLY GIRL          4   \n",
            "541907    581587     23255      CHILDRENS CUTLERY CIRCUS PARADE         4   \n",
            "541908    581587     22138        BAKING SET 9 PIECE RETROSPOT          3   \n",
            "\n",
            "               InvoiceDate  UnitPrice  CustomerID         Country  TotalPrice  \n",
            "0      2010-12-01 08:26:00       2.55     17850.0  United Kingdom       15.30  \n",
            "1      2010-12-01 08:26:00       3.39     17850.0  United Kingdom       20.34  \n",
            "2      2010-12-01 08:26:00       2.75     17850.0  United Kingdom       22.00  \n",
            "3      2010-12-01 08:26:00       3.39     17850.0  United Kingdom       20.34  \n",
            "4      2010-12-01 08:26:00       3.39     17850.0  United Kingdom       20.34  \n",
            "...                    ...        ...         ...             ...         ...  \n",
            "541904 2011-12-09 12:50:00       0.85     12680.0          France       10.20  \n",
            "541905 2011-12-09 12:50:00       2.10     12680.0          France       12.60  \n",
            "541906 2011-12-09 12:50:00       4.15     12680.0          France       16.60  \n",
            "541907 2011-12-09 12:50:00       4.15     12680.0          France       16.60  \n",
            "541908 2011-12-09 12:50:00       4.95     12680.0          France       14.85  \n",
            "\n",
            "[406829 rows x 9 columns]\n"
          ]
        }
      ],
      "source": [
        "import pandas as pd\n",
        "\n",
        "#Convertimos la columna 'InvoiceData' a tipo datatime, para poder filtrar por años, meses o dias\n",
        "sales_data['InvoiceDate'] = pd.to_datetime(sales_data['InvoiceDate'])\n",
        "\n",
        "#Eliminar filas con valores faltantes en las columnas criticas\n",
        "sales_data.dropna(subset=['CustomerID', 'Description'], inplace=True)\n",
        "\n",
        "#Crear una nueva columna 'TotalPrice'\n",
        "sales_data['TotalPrice'] = sales_data['Quantity'] * sales_data['UnitPrice']\n",
        "\n",
        "print(sales_data)\n"
      ]
    },
    {
      "cell_type": "markdown",
      "metadata": {
        "id": "fyH7_w1gkojb"
      },
      "source": [
        "Filtrar ventas en el UK:"
      ]
    },
    {
      "cell_type": "code",
      "execution_count": 5,
      "metadata": {
        "colab": {
          "base_uri": "https://localhost:8080/"
        },
        "id": "aWMvlU7_jd3G",
        "outputId": "b77aef83-4508-40e3-96c5-50efb1fcae7e"
      },
      "outputs": [
        {
          "name": "stdout",
          "output_type": "stream",
          "text": [
            "       InvoiceNo StockCode                          Description  Quantity  \\\n",
            "0         536365    85123A   WHITE HANGING HEART T-LIGHT HOLDER         6   \n",
            "1         536365     71053                  WHITE METAL LANTERN         6   \n",
            "2         536365    84406B       CREAM CUPID HEARTS COAT HANGER         8   \n",
            "3         536365    84029G  KNITTED UNION FLAG HOT WATER BOTTLE         6   \n",
            "4         536365    84029E       RED WOOLLY HOTTIE WHITE HEART.         6   \n",
            "...          ...       ...                                  ...       ...   \n",
            "541889    581585     22466       FAIRY TALE COTTAGE NIGHT LIGHT        12   \n",
            "541890    581586     22061  LARGE CAKE STAND  HANGING STRAWBERY         8   \n",
            "541891    581586     23275     SET OF 3 HANGING OWLS OLLIE BEAK        24   \n",
            "541892    581586     21217        RED RETROSPOT ROUND CAKE TINS        24   \n",
            "541893    581586     20685                DOORMAT RED RETROSPOT        10   \n",
            "\n",
            "               InvoiceDate  UnitPrice  CustomerID         Country  TotalPrice  \n",
            "0      2010-12-01 08:26:00       2.55     17850.0  United Kingdom       15.30  \n",
            "1      2010-12-01 08:26:00       3.39     17850.0  United Kingdom       20.34  \n",
            "2      2010-12-01 08:26:00       2.75     17850.0  United Kingdom       22.00  \n",
            "3      2010-12-01 08:26:00       3.39     17850.0  United Kingdom       20.34  \n",
            "4      2010-12-01 08:26:00       3.39     17850.0  United Kingdom       20.34  \n",
            "...                    ...        ...         ...             ...         ...  \n",
            "541889 2011-12-09 12:31:00       1.95     15804.0  United Kingdom       23.40  \n",
            "541890 2011-12-09 12:49:00       2.95     13113.0  United Kingdom       23.60  \n",
            "541891 2011-12-09 12:49:00       1.25     13113.0  United Kingdom       30.00  \n",
            "541892 2011-12-09 12:49:00       8.95     13113.0  United Kingdom      214.80  \n",
            "541893 2011-12-09 12:49:00       7.08     13113.0  United Kingdom       70.80  \n",
            "\n",
            "[361878 rows x 9 columns]\n"
          ]
        }
      ],
      "source": [
        "uk_sales = sales_data[sales_data['Country'] == 'United Kingdom']\n",
        "print(uk_sales)"
      ]
    },
    {
      "cell_type": "code",
      "execution_count": 7,
      "metadata": {
        "colab": {
          "base_uri": "https://localhost:8080/"
        },
        "id": "qc6Vs2xZk84u",
        "outputId": "d8342d14-9c0c-42a4-e6ad-860eea2f0a7d"
      },
      "outputs": [
        {
          "name": "stdout",
          "output_type": "stream",
          "text": [
            "       InvoiceNo StockCode                         Description  Quantity  \\\n",
            "31        536370     10002         INFLATABLE POLITICAL GLOBE         48   \n",
            "46        536371     22086     PAPER CHAIN KIT 50'S CHRISTMAS         80   \n",
            "82        536376     22114   HOT WATER BOTTLE TEA AND SYMPATHY        48   \n",
            "83        536376     21733    RED HANGING HEART T-LIGHT HOLDER        64   \n",
            "96        536378     21212     PACK OF 72 RETROSPOT CAKE CASES       120   \n",
            "...          ...       ...                                 ...       ...   \n",
            "541746    581571     23167      SMALL CERAMIC TOP STORAGE JAR         96   \n",
            "541747    581571     21314       SMALL GLASS HEART TRINKET POT        48   \n",
            "541751    581572     23328  SET 6 SCHOOL MILK BOTTLES IN CRATE        48   \n",
            "541867    581584     20832    RED FLOCK LOVE HEART PHOTO FRAME        72   \n",
            "541868    581584     85038     6 CHOCOLATE LOVE HEART T-LIGHTS        48   \n",
            "\n",
            "               InvoiceDate  UnitPrice  CustomerID         Country  TotalPrice  \n",
            "31     2010-12-01 08:45:00       0.85     12583.0          France       40.80  \n",
            "46     2010-12-01 09:00:00       2.55     13748.0  United Kingdom      204.00  \n",
            "82     2010-12-01 09:32:00       3.45     15291.0  United Kingdom      165.60  \n",
            "83     2010-12-01 09:32:00       2.55     15291.0  United Kingdom      163.20  \n",
            "96     2010-12-01 09:37:00       0.42     14688.0  United Kingdom       50.40  \n",
            "...                    ...        ...         ...             ...         ...  \n",
            "541746 2011-12-09 12:00:00       0.69     15311.0  United Kingdom       66.24  \n",
            "541747 2011-12-09 12:00:00       1.85     15311.0  United Kingdom       88.80  \n",
            "541751 2011-12-09 12:08:00       3.39     16705.0  United Kingdom      162.72  \n",
            "541867 2011-12-09 12:25:00       0.72     13777.0  United Kingdom       51.84  \n",
            "541868 2011-12-09 12:25:00       1.85     13777.0  United Kingdom       88.80  \n",
            "\n",
            "[18591 rows x 9 columns]\n"
          ]
        }
      ],
      "source": [
        "high_quantity_sales = sales_data[sales_data['Quantity'] > 40]\n",
        "print(high_quantity_sales)"
      ]
    },
    {
      "cell_type": "code",
      "execution_count": 10,
      "metadata": {
        "colab": {
          "base_uri": "https://localhost:8080/"
        },
        "id": "7Sg8L6EglYRl",
        "outputId": "ffe94915-92cd-4152-c8e3-49496a8571de"
      },
      "outputs": [
        {
          "name": "stdout",
          "output_type": "stream",
          "text": [
            "       InvoiceNo StockCode                        Description  Quantity  \\\n",
            "4850      536809     84950     ASSORTED COLOUR T-LIGHT HOLDER      1824   \n",
            "4945      536830     84077  WORLD WAR 2 GLIDERS ASSTD DESIGNS      2880   \n",
            "4946      536830     21915             RED  HARMONICA IN BOX       1400   \n",
            "16435     537659     22189            CREAM HEART CARD HOLDER      1008   \n",
            "16436     537659     22188            BLACK HEART CARD HOLDER      1008   \n",
            "...          ...       ...                                ...       ...   \n",
            "521375    580363     23582       VINTAGE DOILY JUMBO BAG RED       1500   \n",
            "533812    581115     22413    METAL SIGN TAKE IT OR LEAVE IT       1404   \n",
            "540070    581458     22197                     POPCORN HOLDER      1500   \n",
            "540071    581459     22197                     POPCORN HOLDER      1200   \n",
            "540421    581483     23843        PAPER CRAFT , LITTLE BIRDIE     80995   \n",
            "\n",
            "               InvoiceDate  UnitPrice  CustomerID         Country  TotalPrice  \n",
            "4850   2010-12-02 16:48:00       0.55     15299.0  United Kingdom     1003.20  \n",
            "4945   2010-12-02 17:38:00       0.18     16754.0  United Kingdom      518.40  \n",
            "4946   2010-12-02 17:38:00       1.06     16754.0  United Kingdom     1484.00  \n",
            "16435  2010-12-07 16:43:00       2.31     18102.0  United Kingdom     2328.48  \n",
            "16436  2010-12-07 16:43:00       2.31     18102.0  United Kingdom     2328.48  \n",
            "...                    ...        ...         ...             ...         ...  \n",
            "521375 2011-12-02 16:32:00       1.79     13868.0  United Kingdom     2685.00  \n",
            "533812 2011-12-07 12:20:00       2.75     15195.0  United Kingdom     3861.00  \n",
            "540070 2011-12-08 18:45:00       0.72     17949.0  United Kingdom     1080.00  \n",
            "540071 2011-12-08 18:46:00       0.72     17949.0  United Kingdom      864.00  \n",
            "540421 2011-12-09 09:15:00       2.08     16446.0  United Kingdom   168469.60  \n",
            "\n",
            "[97 rows x 9 columns]\n"
          ]
        }
      ],
      "source": [
        "# Para evaluar ambas filtraciones: Por pais y por condicional\n",
        "uk_high_quantity_sales = sales_data[(sales_data['Country'] == 'United Kingdom') &\n",
        "                                    (sales_data['Quantity'] > 1000)]\n",
        "print(uk_high_quantity_sales)"
      ]
    },
    {
      "cell_type": "markdown",
      "metadata": {
        "id": "jsMAbqsMnNoL"
      },
      "source": [
        "# Filtracion por año"
      ]
    },
    {
      "cell_type": "code",
      "execution_count": 11,
      "metadata": {
        "colab": {
          "base_uri": "https://localhost:8080/"
        },
        "id": "eGn5cYG3nDev",
        "outputId": "9c8b2c22-43e9-45c1-f13b-5d32a32d5207"
      },
      "outputs": [
        {
          "name": "stdout",
          "output_type": "stream",
          "text": [
            "       InvoiceNo StockCode                      Description  Quantity  \\\n",
            "42481     539993     22386          JUMBO BAG PINK POLKADOT        10   \n",
            "42482     539993     21499               BLUE POLKADOT WRAP        25   \n",
            "42483     539993     21498              RED RETROSPOT WRAP         25   \n",
            "42484     539993     22379         RECYCLING BAG RETROSPOT          5   \n",
            "42485     539993     20718        RED RETROSPOT SHOPPER BAG        10   \n",
            "...          ...       ...                              ...       ...   \n",
            "541904    581587     22613      PACK OF 20 SPACEBOY NAPKINS        12   \n",
            "541905    581587     22899     CHILDREN'S APRON DOLLY GIRL          6   \n",
            "541906    581587     23254    CHILDRENS CUTLERY DOLLY GIRL          4   \n",
            "541907    581587     23255  CHILDRENS CUTLERY CIRCUS PARADE         4   \n",
            "541908    581587     22138    BAKING SET 9 PIECE RETROSPOT          3   \n",
            "\n",
            "               InvoiceDate  UnitPrice  CustomerID         Country  TotalPrice  \n",
            "42481  2011-01-04 10:00:00       1.95     13313.0  United Kingdom       19.50  \n",
            "42482  2011-01-04 10:00:00       0.42     13313.0  United Kingdom       10.50  \n",
            "42483  2011-01-04 10:00:00       0.42     13313.0  United Kingdom       10.50  \n",
            "42484  2011-01-04 10:00:00       2.10     13313.0  United Kingdom       10.50  \n",
            "42485  2011-01-04 10:00:00       1.25     13313.0  United Kingdom       12.50  \n",
            "...                    ...        ...         ...             ...         ...  \n",
            "541904 2011-12-09 12:50:00       0.85     12680.0          France       10.20  \n",
            "541905 2011-12-09 12:50:00       2.10     12680.0          France       12.60  \n",
            "541906 2011-12-09 12:50:00       4.15     12680.0          France       16.60  \n",
            "541907 2011-12-09 12:50:00       4.15     12680.0          France       16.60  \n",
            "541908 2011-12-09 12:50:00       4.95     12680.0          France       14.85  \n",
            "\n",
            "[379979 rows x 9 columns]\n"
          ]
        }
      ],
      "source": [
        "sales_2011 = sales_data[sales_data['InvoiceDate'].dt.year == 2011]\n",
        "print(sales_2011)"
      ]
    },
    {
      "cell_type": "code",
      "execution_count": 12,
      "metadata": {
        "colab": {
          "base_uri": "https://localhost:8080/"
        },
        "id": "gFpyi_t1nxhd",
        "outputId": "0d4b1e0a-34ce-48a0-a3dd-ab8aee6dd08f"
      },
      "outputs": [
        {
          "name": "stdout",
          "output_type": "stream",
          "text": [
            "      InvoiceNo StockCode                          Description  Quantity  \\\n",
            "0        536365    85123A   WHITE HANGING HEART T-LIGHT HOLDER         6   \n",
            "1        536365     71053                  WHITE METAL LANTERN         6   \n",
            "2        536365    84406B       CREAM CUPID HEARTS COAT HANGER         8   \n",
            "3        536365    84029G  KNITTED UNION FLAG HOT WATER BOTTLE         6   \n",
            "4        536365    84029E       RED WOOLLY HOTTIE WHITE HEART.         6   \n",
            "...         ...       ...                                  ...       ...   \n",
            "42448    539988     84380    SET OF 3 BUTTERFLY COOKIE CUTTERS         1   \n",
            "42449    539988    84849D                HOT BATHS SOAP HOLDER         1   \n",
            "42450    539988    84849B               FAIRY SOAP SOAP HOLDER         1   \n",
            "42451    539988     22854          CREAM SWEETHEART EGG HOLDER         2   \n",
            "42452    539988    47559B                  TEA TIME OVEN GLOVE         2   \n",
            "\n",
            "              InvoiceDate  UnitPrice  CustomerID         Country  TotalPrice  \n",
            "0     2010-12-01 08:26:00       2.55     17850.0  United Kingdom       15.30  \n",
            "1     2010-12-01 08:26:00       3.39     17850.0  United Kingdom       20.34  \n",
            "2     2010-12-01 08:26:00       2.75     17850.0  United Kingdom       22.00  \n",
            "3     2010-12-01 08:26:00       3.39     17850.0  United Kingdom       20.34  \n",
            "4     2010-12-01 08:26:00       3.39     17850.0  United Kingdom       20.34  \n",
            "...                   ...        ...         ...             ...         ...  \n",
            "42448 2010-12-23 16:06:00       1.25     18116.0  United Kingdom        1.25  \n",
            "42449 2010-12-23 16:06:00       1.69     18116.0  United Kingdom        1.69  \n",
            "42450 2010-12-23 16:06:00       1.69     18116.0  United Kingdom        1.69  \n",
            "42451 2010-12-23 16:06:00       4.95     18116.0  United Kingdom        9.90  \n",
            "42452 2010-12-23 16:06:00       1.25     18116.0  United Kingdom        2.50  \n",
            "\n",
            "[26850 rows x 9 columns]\n"
          ]
        }
      ],
      "source": [
        "sales_2010 = sales_data[sales_data['InvoiceDate'].dt.year == 2010]\n",
        "print(sales_2010)"
      ]
    },
    {
      "cell_type": "code",
      "execution_count": 17,
      "metadata": {
        "colab": {
          "base_uri": "https://localhost:8080/"
        },
        "id": "kxggFd1dn1n1",
        "outputId": "a4de103b-354f-4d3a-a873-acdd5f8413f5"
      },
      "outputs": [
        {
          "name": "stdout",
          "output_type": "stream",
          "text": [
            "      InvoiceNo StockCode                          Description  Quantity  \\\n",
            "0        536365    85123A   WHITE HANGING HEART T-LIGHT HOLDER         6   \n",
            "1        536365     71053                  WHITE METAL LANTERN         6   \n",
            "2        536365    84406B       CREAM CUPID HEARTS COAT HANGER         8   \n",
            "3        536365    84029G  KNITTED UNION FLAG HOT WATER BOTTLE         6   \n",
            "4        536365    84029E       RED WOOLLY HOTTIE WHITE HEART.         6   \n",
            "...         ...       ...                                  ...       ...   \n",
            "42448    539988     84380    SET OF 3 BUTTERFLY COOKIE CUTTERS         1   \n",
            "42449    539988    84849D                HOT BATHS SOAP HOLDER         1   \n",
            "42450    539988    84849B               FAIRY SOAP SOAP HOLDER         1   \n",
            "42451    539988     22854          CREAM SWEETHEART EGG HOLDER         2   \n",
            "42452    539988    47559B                  TEA TIME OVEN GLOVE         2   \n",
            "\n",
            "              InvoiceDate  UnitPrice  CustomerID         Country  TotalPrice  \n",
            "0     2010-12-01 08:26:00       2.55     17850.0  United Kingdom       15.30  \n",
            "1     2010-12-01 08:26:00       3.39     17850.0  United Kingdom       20.34  \n",
            "2     2010-12-01 08:26:00       2.75     17850.0  United Kingdom       22.00  \n",
            "3     2010-12-01 08:26:00       3.39     17850.0  United Kingdom       20.34  \n",
            "4     2010-12-01 08:26:00       3.39     17850.0  United Kingdom       20.34  \n",
            "...                   ...        ...         ...             ...         ...  \n",
            "42448 2010-12-23 16:06:00       1.25     18116.0  United Kingdom        1.25  \n",
            "42449 2010-12-23 16:06:00       1.69     18116.0  United Kingdom        1.69  \n",
            "42450 2010-12-23 16:06:00       1.69     18116.0  United Kingdom        1.69  \n",
            "42451 2010-12-23 16:06:00       4.95     18116.0  United Kingdom        9.90  \n",
            "42452 2010-12-23 16:06:00       1.25     18116.0  United Kingdom        2.50  \n",
            "\n",
            "[26850 rows x 9 columns]\n"
          ]
        }
      ],
      "source": [
        "sales_december_2010 = sales_data[(sales_data['InvoiceDate'].dt.year == 2010) &\n",
        "                                 (sales_data['InvoiceDate'].dt.month == 12)]\n",
        "print(sales_december_2010)"
      ]
    },
    {
      "cell_type": "markdown",
      "metadata": {
        "id": "msa8wfZbrdiM"
      },
      "source": [
        "## Pivot Table\n",
        "\n",
        "Las Pivot Tables son una herramienta que nos permite resumir y reorganizar columnas de datos crudos de un DataFrame de pandas. Gracias a ellas, podemos realizar cálculos estadísticos comunes como sumas, conteos y promedios, ayudándonos a descubrir patrones ocultos y obtener insights valiosos de nuestros datos originales."
      ]
    },
    {
      "cell_type": "markdown",
      "metadata": {
        "id": "8hkHt129r3Ci"
      },
      "source": [
        "¿Cómo crear una Pivot Table?\n",
        "Para crear una Pivot Table en pandas, debes seguir un proceso estructurado, especificando varios parámetros clave. Veamos cómo hacerlo paso a paso.\n",
        "\n",
        "¿Cómo pasar la información al DataFrame?\n",
        "\n",
        "El primer paso es definir el DataFrame que vamos a utilizar. Luego, especificaremos las columnas y los índices que deseamos tener en nuestra Pivot Table.\n",
        "\n",
        "1. DataFrame inicial: Debemos tener un DataFrame con los datos que queremos analizar.\n",
        "2. Columna de valores: Definimos la columna cuyo cálculo estadístico queremos realizar (por ejemplo, 'cantidad').\n",
        "3. Índice: En lugar de usar un índice posicional (como 0, 1, 2), se puede utilizar una de las columnas como índice. Por ejemplo, 'country'.\n",
        "4. Columnas: Incluir las columnas que deseas evaluar, como los 'stock codes'.\n",
        "5. Función de cálculo: Determina la función que aplicarás, como la suma, para mostrar las sumatorias totales en el índice."
      ]
    },
    {
      "cell_type": "code",
      "execution_count": 20,
      "metadata": {
        "colab": {
          "base_uri": "https://localhost:8080/"
        },
        "id": "vzpgTW18rg_b",
        "outputId": "4b5a2dd0-c226-43ca-efe2-0e955fe3293e"
      },
      "outputs": [
        {
          "name": "stdout",
          "output_type": "stream",
          "text": [
            "                        sum                                                    \\\n",
            "StockCode             10002  10080  10120 10123C 10124A 10124G  10125   10133   \n",
            "Country                                                                         \n",
            "Australia               NaN    NaN    NaN    NaN    NaN    NaN    NaN     NaN   \n",
            "Austria                 NaN    NaN    NaN    NaN    NaN    NaN    NaN     NaN   \n",
            "Bahrain                 NaN    NaN    NaN    NaN    NaN    NaN    NaN     NaN   \n",
            "Belgium                 NaN    NaN    NaN    NaN    NaN    NaN    NaN     NaN   \n",
            "Brazil                  NaN    NaN    NaN    NaN    NaN    NaN    NaN     NaN   \n",
            "Canada                  NaN    NaN    NaN    NaN    NaN    NaN    NaN    40.0   \n",
            "Channel Islands         NaN    NaN    NaN    NaN    NaN    NaN    NaN     NaN   \n",
            "Cyprus                  NaN    NaN    NaN    NaN    NaN    NaN    NaN     NaN   \n",
            "Czech Republic          NaN    NaN    NaN    NaN    NaN    NaN    NaN     NaN   \n",
            "Denmark                 NaN    NaN    NaN    NaN    NaN    NaN    NaN     NaN   \n",
            "EIRE                   12.0    NaN    NaN    NaN    NaN    NaN    NaN    40.0   \n",
            "European Community      NaN    NaN    NaN    NaN    NaN    NaN    NaN     NaN   \n",
            "Finland                 NaN    NaN    NaN    NaN    NaN    NaN    NaN     NaN   \n",
            "France                372.0    NaN   10.0    NaN    NaN    NaN  470.0     NaN   \n",
            "Germany                 1.0    NaN    NaN    NaN    NaN    NaN  120.0     NaN   \n",
            "Greece                  NaN    NaN    NaN    NaN    NaN    NaN    NaN     NaN   \n",
            "Iceland                 NaN    NaN    NaN    NaN    NaN    NaN    NaN     NaN   \n",
            "Israel                  NaN    NaN    NaN    NaN    NaN    NaN    NaN    20.0   \n",
            "Italy                   NaN    NaN    NaN    NaN    NaN    NaN    NaN     NaN   \n",
            "Japan                   1.0    NaN    NaN    NaN    NaN    NaN    NaN     NaN   \n",
            "Lebanon                 NaN    NaN    NaN    NaN    NaN    NaN    NaN     NaN   \n",
            "Lithuania               NaN    NaN    NaN    NaN    NaN    NaN    NaN     NaN   \n",
            "Malta                   NaN    NaN    NaN    NaN    NaN    NaN    NaN     NaN   \n",
            "Netherlands             NaN    NaN    NaN    NaN    NaN    NaN    NaN     NaN   \n",
            "Norway                  NaN    NaN    NaN    NaN    NaN    NaN    NaN     NaN   \n",
            "Poland                  NaN    NaN    NaN    NaN    NaN    NaN    NaN     NaN   \n",
            "Portugal                NaN    NaN    NaN    NaN    NaN    NaN    NaN    20.0   \n",
            "RSA                     NaN    NaN    NaN    NaN    NaN    NaN    NaN     NaN   \n",
            "Saudi Arabia            NaN    NaN    NaN    NaN    NaN    NaN    NaN     NaN   \n",
            "Singapore               NaN    NaN    NaN    NaN    NaN    NaN    NaN     NaN   \n",
            "Spain                  24.0    NaN    NaN    NaN    NaN    NaN    NaN     NaN   \n",
            "Sweden                  NaN    NaN    NaN    NaN    NaN    NaN    NaN     NaN   \n",
            "Switzerland            12.0    NaN    NaN    NaN    NaN    NaN   20.0    10.0   \n",
            "USA                     NaN    NaN    NaN    NaN    NaN    NaN    NaN     NaN   \n",
            "United Arab Emirates    NaN    NaN    NaN    NaN    NaN    NaN    NaN     NaN   \n",
            "United Kingdom        401.0  291.0  183.0    5.0   16.0   17.0  616.0  2244.0   \n",
            "Unspecified             NaN    NaN    NaN    NaN    NaN    NaN    NaN     NaN   \n",
            "\n",
            "                                     ...       mean                      \\\n",
            "StockCode              10135  11001  ...     90214Y 90214Z BANK CHARGES   \n",
            "Country                              ...                                  \n",
            "Australia                NaN    NaN  ...        NaN    NaN          NaN   \n",
            "Austria                  NaN    NaN  ...        NaN    NaN          NaN   \n",
            "Bahrain                  NaN    NaN  ...        NaN    NaN          NaN   \n",
            "Belgium                  NaN    NaN  ...        NaN    NaN          NaN   \n",
            "Brazil                   NaN    NaN  ...        NaN    NaN          NaN   \n",
            "Canada                  20.0    NaN  ...        NaN    NaN          NaN   \n",
            "Channel Islands          NaN    NaN  ...        NaN    NaN          NaN   \n",
            "Cyprus                   NaN    NaN  ...        NaN    NaN          NaN   \n",
            "Czech Republic           NaN    NaN  ...        NaN    NaN          NaN   \n",
            "Denmark                  NaN    NaN  ...        NaN    NaN          NaN   \n",
            "EIRE                    60.0   48.0  ...        NaN    NaN          NaN   \n",
            "European Community       NaN    NaN  ...        NaN    NaN          NaN   \n",
            "Finland                  NaN    NaN  ...        NaN    NaN          NaN   \n",
            "France                  10.0   16.0  ...        NaN    NaN          NaN   \n",
            "Germany                200.0   32.0  ...        NaN    NaN          NaN   \n",
            "Greece                   NaN    NaN  ...        NaN    NaN          NaN   \n",
            "Iceland                  NaN    NaN  ...        NaN    NaN          NaN   \n",
            "Israel                   NaN    NaN  ...        NaN    NaN          NaN   \n",
            "Italy                    NaN    NaN  ...        NaN    NaN          NaN   \n",
            "Japan                    NaN    NaN  ...        NaN    NaN          NaN   \n",
            "Lebanon                  NaN    NaN  ...        NaN    NaN          NaN   \n",
            "Lithuania                NaN    NaN  ...        NaN    NaN          NaN   \n",
            "Malta                    NaN    NaN  ...        NaN    NaN          NaN   \n",
            "Netherlands              NaN    NaN  ...        NaN    NaN          NaN   \n",
            "Norway                  10.0   16.0  ...        NaN    NaN          NaN   \n",
            "Poland                   NaN    NaN  ...        NaN    NaN          NaN   \n",
            "Portugal                 NaN   16.0  ...        NaN    NaN          NaN   \n",
            "RSA                      NaN    NaN  ...        NaN    NaN          NaN   \n",
            "Saudi Arabia             NaN    NaN  ...        NaN    NaN          NaN   \n",
            "Singapore                NaN    NaN  ...        NaN    NaN          NaN   \n",
            "Spain                    NaN   16.0  ...        NaN    NaN          NaN   \n",
            "Sweden                   NaN    NaN  ...        NaN    NaN          NaN   \n",
            "Switzerland              NaN    NaN  ...        NaN    NaN          NaN   \n",
            "USA                      NaN    NaN  ...        NaN    NaN          NaN   \n",
            "United Arab Emirates     NaN    NaN  ...        NaN    NaN          NaN   \n",
            "United Kingdom        1637.0  923.0  ...  20.333333   12.0          1.0   \n",
            "Unspecified              NaN    NaN  ...        NaN    NaN          NaN   \n",
            "\n",
            "                                                                                \n",
            "StockCode                   C2 CRUK          D  DOT           M PADS      POST  \n",
            "Country                                                                         \n",
            "Australia                  NaN  NaN        NaN  NaN         NaN  NaN  0.000000  \n",
            "Austria                    NaN  NaN        NaN  NaN         NaN  NaN  2.642857  \n",
            "Bahrain                    NaN  NaN        NaN  NaN         NaN  NaN       NaN  \n",
            "Belgium                    NaN  NaN        NaN  NaN         NaN  NaN  2.775510  \n",
            "Brazil                     NaN  NaN        NaN  NaN         NaN  NaN       NaN  \n",
            "Canada                     NaN  NaN        NaN  NaN         NaN  NaN  1.000000  \n",
            "Channel Islands       1.000000  NaN        NaN  NaN    0.000000  NaN       NaN  \n",
            "Cyprus                     NaN  NaN        NaN  NaN    0.000000  NaN  1.000000  \n",
            "Czech Republic             NaN  NaN        NaN  NaN         NaN  NaN  0.000000  \n",
            "Denmark                    NaN  NaN        NaN  NaN         NaN  NaN  2.928571  \n",
            "EIRE                  0.979798  NaN  -1.000000  NaN   -0.200000  NaN       NaN  \n",
            "European Community         NaN  NaN        NaN  NaN         NaN  NaN  3.000000  \n",
            "Finland                    NaN  NaN        NaN  NaN    2.000000  NaN  2.170732  \n",
            "France                1.500000  NaN        NaN  NaN   -1.600000  NaN  2.581994  \n",
            "Germany                    NaN  NaN        NaN  NaN    0.125000  NaN  2.882507  \n",
            "Greece                     NaN  NaN        NaN  NaN         NaN  NaN  1.500000  \n",
            "Iceland                    NaN  NaN        NaN  NaN         NaN  NaN       NaN  \n",
            "Israel                     NaN  NaN        NaN  NaN         NaN  NaN       NaN  \n",
            "Italy                      NaN  NaN  -1.000000  NaN   -1.000000  NaN  2.444444  \n",
            "Japan                      NaN  NaN        NaN  NaN   -1.000000  NaN       NaN  \n",
            "Lebanon                    NaN  NaN        NaN  NaN         NaN  NaN       NaN  \n",
            "Lithuania                  NaN  NaN        NaN  NaN         NaN  NaN       NaN  \n",
            "Malta                      NaN  NaN        NaN  NaN         NaN  NaN  2.500000  \n",
            "Netherlands                NaN  NaN  -1.000000  NaN -480.000000  NaN  2.538462  \n",
            "Norway                     NaN  NaN        NaN  NaN    0.000000  NaN  2.850000  \n",
            "Poland                     NaN  NaN        NaN  NaN         NaN  NaN  1.800000  \n",
            "Portugal                   NaN  NaN        NaN  NaN    0.071429  NaN  3.233333  \n",
            "RSA                        NaN  NaN        NaN  NaN    1.000000  NaN       NaN  \n",
            "Saudi Arabia               NaN  NaN        NaN  NaN         NaN  NaN       NaN  \n",
            "Singapore                  NaN  NaN        NaN  NaN    0.000000  NaN       NaN  \n",
            "Spain                      NaN  NaN        NaN  NaN   -1.000000  NaN  3.370968  \n",
            "Sweden                     NaN  NaN        NaN  NaN    1.000000  NaN  1.541667  \n",
            "Switzerland                NaN  NaN        NaN  NaN         NaN  NaN  2.939394  \n",
            "USA                        NaN  NaN        NaN  NaN         NaN  NaN       NaN  \n",
            "United Arab Emirates       NaN  NaN        NaN  NaN         NaN  NaN  1.000000  \n",
            "United Kingdom        1.000000 -1.0 -16.094595  1.0    9.561039  1.0 -0.244186  \n",
            "Unspecified                NaN  NaN        NaN  NaN         NaN  NaN       NaN  \n",
            "\n",
            "[37 rows x 7368 columns]\n"
          ]
        }
      ],
      "source": [
        "pivot_table = pd.pivot_table(sales_data, values = 'Quantity', index = 'Country', columns = 'StockCode', aggfunc = ['sum', 'mean'])\n",
        "print(pivot_table)"
      ]
    },
    {
      "cell_type": "markdown",
      "metadata": {
        "id": "1sIt7Fbmu7Ce"
      },
      "source": [
        "# ¿Cómo apilar y desapilar datos en DataFrames?\n",
        "\n",
        "El apilamiento y desapilamiento de datos son técnicas útiles cuando necesitas cambiar la estructura de tu DataFrame para análisis más profundos o para ajustar la presentación de la información."
      ]
    },
    {
      "cell_type": "code",
      "execution_count": 26,
      "metadata": {
        "colab": {
          "base_uri": "https://localhost:8080/"
        },
        "id": "sQ0rrZOnsjWl",
        "outputId": "0e2a51ab-1dc1-4f4c-bebe-5727ecd88261"
      },
      "outputs": [
        {
          "name": "stdout",
          "output_type": "stream",
          "text": [
            "     A  B  C\n",
            "0  foo  1  1\n",
            "1  bar  2  2\n",
            "2  foo  3  3\n",
            "3  bar  5  4\n",
            "4  foo  1  5\n"
          ]
        }
      ],
      "source": [
        "df = pd.DataFrame({\n",
        "    'A' : ['foo', 'bar', 'foo', 'bar', 'foo'],\n",
        "    'B' : [1, 2, 3, 5, 1],\n",
        "    'C' : [1, 2, 3, 4, 5]\n",
        "})\n",
        "print(df)"
      ]
    },
    {
      "cell_type": "markdown",
      "metadata": {
        "id": "IukDo7X3vAv8"
      },
      "source": [
        "El método stack convierte el índice de un DataFrame en una columna, apilando los datos."
      ]
    },
    {
      "cell_type": "code",
      "execution_count": 27,
      "metadata": {
        "colab": {
          "base_uri": "https://localhost:8080/"
        },
        "id": "DgbH3cQJuK-1",
        "outputId": "451777af-0d9d-4d80-aed1-996aa75b4f3d"
      },
      "outputs": [
        {
          "name": "stdout",
          "output_type": "stream",
          "text": [
            "0  A    foo\n",
            "   B      1\n",
            "   C      1\n",
            "1  A    bar\n",
            "   B      2\n",
            "   C      2\n",
            "2  A    foo\n",
            "   B      3\n",
            "   C      3\n",
            "3  A    bar\n",
            "   B      5\n",
            "   C      4\n",
            "4  A    foo\n",
            "   B      1\n",
            "   C      5\n",
            "dtype: object\n"
          ]
        }
      ],
      "source": [
        "df_stack = df.stack()\n",
        "print(df_stack)"
      ]
    },
    {
      "cell_type": "markdown",
      "metadata": {
        "id": "kTbK86nqvHcO"
      },
      "source": [
        "El unstack hace el proceso contrario al stack, transformando columnas en índices."
      ]
    },
    {
      "cell_type": "code",
      "execution_count": 28,
      "metadata": {
        "colab": {
          "base_uri": "https://localhost:8080/"
        },
        "id": "agDubgFYuqnc",
        "outputId": "9b41f9c7-9321-4dd0-df94-d902556d92f3"
      },
      "outputs": [
        {
          "name": "stdout",
          "output_type": "stream",
          "text": [
            "A  0    foo\n",
            "   1    bar\n",
            "   2    foo\n",
            "   3    bar\n",
            "   4    foo\n",
            "B  0      1\n",
            "   1      2\n",
            "   2      3\n",
            "   3      5\n",
            "   4      1\n",
            "C  0      1\n",
            "   1      2\n",
            "   2      3\n",
            "   3      4\n",
            "   4      5\n",
            "dtype: object\n"
          ]
        }
      ],
      "source": [
        "df_unstack = df.unstack()\n",
        "print(df_unstack)"
      ]
    },
    {
      "cell_type": "code",
      "execution_count": null,
      "metadata": {
        "id": "Gc4U0KQwvR8z"
      },
      "outputs": [],
      "source": []
    }
  ],
  "metadata": {
    "colab": {
      "provenance": []
    },
    "kernelspec": {
      "display_name": "Python 3",
      "name": "python3"
    },
    "language_info": {
      "name": "python"
    }
  },
  "nbformat": 4,
  "nbformat_minor": 0
}
