{
 "cells": [
  {
   "cell_type": "markdown",
   "id": "e8d51337",
   "metadata": {},
   "source": [
    "This dataset captures the pulse of viral social media trends across Facebook, Instagram and Twitter. It provides insights into the most popular hashtags, content types, and user engagement levels, offering a comprehensive view of how trends unfold across platforms. With regional data and influencer-driven content, this dataset is perfect for:\n",
    "\n",
    "Trend analysis 🔍\n",
    "Sentiment modeling 💭\n",
    "Understanding influencer marketing 📈\n",
    "Dive in to explore what makes content go viral, the behaviors that drive engagement, and how trends evolve on a global scale! 🌍"
   ]
  },
  {
   "cell_type": "code",
   "execution_count": null,
   "id": "bf871724",
   "metadata": {},
   "outputs": [
    {
     "name": "stdout",
     "output_type": "stream",
     "text": [
      "<class 'pandas.core.frame.DataFrame'>\n",
      "RangeIndex: 100 entries, 0 to 99\n",
      "Data columns (total 9 columns):\n",
      " #   Column           Non-Null Count  Dtype \n",
      "---  ------           --------------  ----- \n",
      " 0   post_id          100 non-null    int64 \n",
      " 1   platform         100 non-null    object\n",
      " 2   post_type        100 non-null    object\n",
      " 3   post_time        100 non-null    object\n",
      " 4   likes            100 non-null    int64 \n",
      " 5   comments         100 non-null    int64 \n",
      " 6   shares           100 non-null    int64 \n",
      " 7   post_day         100 non-null    object\n",
      " 8   sentiment_score  100 non-null    object\n",
      "dtypes: int64(4), object(5)\n",
      "memory usage: 7.2+ KB\n",
      "None\n"
     ]
    }
   ],
   "source": [
    "import pandas as pd\n",
    "\n",
    "#Cargar el dataset\n",
    "df = pd.read_csv(\"social_media_engagement1.csv\")\n",
    "\n",
    "#Conocer el dataset\n",
    "print(df.info())"
   ]
  },
  {
   "cell_type": "markdown",
   "id": "b0a32ac6",
   "metadata": {},
   "source": [
    "1. ¿Cuál es el propósito principal del análisis?\n",
    "\n",
    "    ¿Qué preguntas específicas quieres responder?:\n",
    "\n",
    "    ¿Cuáles son los hashtags con mayor engagement?\n",
    "    ¿Qué tipos de contenido (video, imagen, texto, carrusel) generan más interacción en cada red social?\n",
    "    ¿Qué plataformas generan mayor engagement promedio?\n",
    "    ¿Hay relación entre la duración de un contenido y su viralidad?\n",
    "    ¿Cuál es la tasa de crecimiento de un hashtag viral por día?\n",
    "\n",
    "2.  Contexto del Negocio\n",
    "    ¿Cómo varía el engagement (likes, shares, comments) entre Facebook, Instagram y Twitter?\n",
    "    ¿Qué tipos de contenido son más virales por plataforma?\n",
    "    ¿Existen diferencias notables en el uso de hashtags por red social?\n",
    "\n",
    "3. Alcance del Análisis:\n",
    "    ¿Qué aspectos están dentro y fuera del alcance del análisis? Análisis Exploratorio de Tendencias y Viralidad, Comparación entre Plataformas Sociales y Segmentación por Región y Temporalidad\n",
    "    ¿Qué limitaciones deben tenerse en cuenta?\n",
    "\n",
    "4. Resultados Esperados\n",
    "    ¿Qué tipo de resultados se espera del análisis?\n",
    "    ¿Cómo se utilizarán estos resultados?\n",
    "  * Ranking de hashtags y tipos de contenido virales por red social.\n",
    "  * Plataformas con mayor engagement promedio y sus características comunes.\n",
    "  * Análisis visual de tendencias por región y tiempo.\n",
    " * rrelaciones entre variables (likes, shares, comentarios, tipo de contenido).\n",
    "  * Identificación de influencers y usuarios con alto impacto"
   ]
  },
  {
   "cell_type": "code",
   "execution_count": 8,
   "id": "52821748",
   "metadata": {},
   "outputs": [
    {
     "name": "stdout",
     "output_type": "stream",
     "text": [
      "          post_id        likes   comments      shares\n",
      "count  100.000000   100.000000  100.00000  100.000000\n",
      "mean    50.500000  2381.810000  202.66000  415.650000\n",
      "std     29.011492  1632.573284  138.84067  283.877601\n",
      "min      1.000000    15.000000   10.00000   16.000000\n",
      "25%     25.750000   895.750000   89.75000  183.000000\n",
      "50%     50.500000  2220.000000  171.00000  356.500000\n",
      "75%     75.250000  3593.250000  299.00000  689.500000\n",
      "max    100.000000  5000.000000  500.00000  993.000000\n"
     ]
    }
   ],
   "source": [
    "print(df.describe())"
   ]
  },
  {
   "cell_type": "markdown",
   "id": "a2d3ab31",
   "metadata": {},
   "source": [
    "## Limpieza"
   ]
  },
  {
   "cell_type": "code",
   "execution_count": 10,
   "id": "1d855e16",
   "metadata": {},
   "outputs": [
    {
     "ename": "NameError",
     "evalue": "name 'dfsnull' is not defined",
     "output_type": "error",
     "traceback": [
      "\u001b[31m---------------------------------------------------------------------------\u001b[39m",
      "\u001b[31mNameError\u001b[39m                                 Traceback (most recent call last)",
      "\u001b[36mCell\u001b[39m\u001b[36m \u001b[39m\u001b[32mIn[10]\u001b[39m\u001b[32m, line 3\u001b[39m\n\u001b[32m      1\u001b[39m \u001b[38;5;66;03m#1. datos faltantes\u001b[39;00m\n\u001b[32m----> \u001b[39m\u001b[32m3\u001b[39m \u001b[43mdfsnull\u001b[49m().sum()\n",
      "\u001b[31mNameError\u001b[39m: name 'dfsnull' is not defined"
     ]
    }
   ],
   "source": [
    "#1. datos faltantes\n",
    "\n",
    "dfsnull().sum()"
   ]
  },
  {
   "cell_type": "code",
   "execution_count": null,
   "id": "dd27186b",
   "metadata": {},
   "outputs": [],
   "source": []
  }
 ],
 "metadata": {
  "kernelspec": {
   "display_name": "prob.venv (3.13.5)",
   "language": "python",
   "name": "python3"
  },
  "language_info": {
   "codemirror_mode": {
    "name": "ipython",
    "version": 3
   },
   "file_extension": ".py",
   "mimetype": "text/x-python",
   "name": "python",
   "nbconvert_exporter": "python",
   "pygments_lexer": "ipython3",
   "version": "3.13.5"
  }
 },
 "nbformat": 4,
 "nbformat_minor": 5
}
